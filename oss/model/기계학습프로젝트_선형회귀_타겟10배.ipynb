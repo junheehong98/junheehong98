{
 "cells": [
  {
   "cell_type": "code",
   "execution_count": 1,
   "id": "d5770634",
   "metadata": {},
   "outputs": [],
   "source": [
    "import numpy as np\n",
    "import pandas as pd\n",
    "import matplotlib.pyplot as plt\n",
    "from sklearn.model_selection import train_test_split\n",
    "from sklearn.impute import SimpleImputer\n",
    "from sklearn.preprocessing import OneHotEncoder\n",
    "from sklearn.preprocessing import StandardScaler\n",
    "from sklearn.linear_model import SGDRegressor\n",
    "from sklearn.model_selection import RandomizedSearchCV\n",
    "from scipy.stats import uniform\n",
    "\n",
    "\n",
    "\n"
   ]
  },
  {
   "cell_type": "code",
   "execution_count": 2,
   "id": "2c303335",
   "metadata": {},
   "outputs": [],
   "source": [
    "\n",
    "data = pd.read_csv('modified_data7.csv', encoding='cp1252')\n",
    "\n",
    "# 'rating' 열에 10을 곱하여 타겟을 자연수로 변환\n",
    "data['rating'] *= 10\n",
    "\n",
    "# 필요없는 피처 날리기\n",
    "data = data.drop(\"subbedOutTime\", axis=1)\n",
    "data = data.drop(\"position\", axis=1)\n",
    "data = data.drop(\"fantasyScore\", axis=1)\n",
    "\n",
    "# 포지션만 있고 세부 포지션 널값처리\n",
    "# 'positionStringShort'의 널값이 있는 행 찾기\n",
    "null_positions = data[data['positionStringShort'].isna()]\n",
    "\n",
    "# 각 널값에 대해 처리\n",
    "for index, row in null_positions.iterrows():\n",
    "    # 현재 널값이 있는 행의 'name' 가져오기\n",
    "    name = row['name']\n",
    "    # 해당 'name'을 가진 모든 행에서 'positionStringShort'의 최빈값 찾기\n",
    "    most_frequent_position = data[data['name'] == name]['positionStringShort'].mode()[0]\n",
    "    # 널값 채우기\n",
    "    data.at[index, 'positionStringShort'] = most_frequent_position\n",
    "\n",
    "data = data.drop(\"name\", axis=1)\n",
    "# rating 널값 제거, 개수가 매우적어 없는거만 제거\n",
    "data = data.dropna(subset=[\"rating\"])\n",
    "\n",
    "# x , y 나누기\n",
    "data_x = data.drop(\"rating\", axis=1)\n",
    "data_y = data[\"rating\"]\n",
    "\n",
    "# 학습, 테스트 데이터 나누기\n",
    "x_train, x_test, y_train, y_test = train_test_split(data_x, data_y, test_size=0.2)\n",
    "\n",
    "# 'positionStringShort'와 'positionRow' 열 선택\n",
    "x_train_cat = x_train[['positionStringShort', 'positionRow']].values\n",
    "# OneHotEncoder 객체 생성\n",
    "cat_encoder = OneHotEncoder()\n",
    "# 원-핫 인코딩 적용\n",
    "x_train_cat_1hot = cat_encoder.fit_transform(x_train_cat)\n",
    "# positionStringShort, positionRow은 카테고리컬\n",
    "x_train_num = x_train.drop([\"positionStringShort\", \"positionRow\"], axis=1)\n",
    "\n",
    "# 불리언 타입이 아닌 수치형 데이터만 선택\n",
    "numeric_features = x_train_num.select_dtypes(include=['int64', 'float64'])\n",
    "# StandardScaler 객체 생성\n",
    "scaler = StandardScaler()\n",
    "# 수치형 데이터에 표준화 적용\n",
    "numeric_features_scaled = scaler.fit_transform(numeric_features)\n",
    "# 스케일링된 데이터를 데이터프레임으로 변환 (원본 데이터프레임의 인덱스 사용)\n",
    "numeric_features_scaled_df = pd.DataFrame(numeric_features_scaled, columns=numeric_features.columns,\n",
    "                                          index=x_train_num.index)\n",
    "# 데이터를 소수점 셋째 자리에서 반올림\n",
    "numeric_features_scaled_df = numeric_features_scaled_df.round(3)\n",
    "# 스케일링된 수치형 데이터프레임을 원본 데이터프레임과 병합\n",
    "data_num_scaled = x_train_num.copy()\n",
    "data_num_scaled[numeric_features.columns] = numeric_features_scaled_df\n",
    "\n",
    "# 원-핫 인코딩된 데이터를 데이터프레임으로 변환\n",
    "x_train_cat_1hot_df = pd.DataFrame(x_train_cat_1hot.toarray(), columns=cat_encoder.get_feature_names_out(),\n",
    "                                   index=x_train.index)\n",
    "\n",
    "# 불리언 타입의 데이터만 선택\n",
    "bool_features = x_train_num.select_dtypes(include=['bool'])\n",
    "\n",
    "\n",
    "# 스케일링된 수치형 데이터, 불리언 타입의 데이터, 원-핫 인코딩된 데이터 병합\n",
    "x_train_prepared = pd.concat([data_num_scaled, bool_features, x_train_cat_1hot_df], axis=1)\n"
   ]
  },
  {
   "cell_type": "code",
   "execution_count": 3,
   "id": "a99eaa1b",
   "metadata": {},
   "outputs": [],
   "source": [
    "from sklearn.linear_model import LinearRegression\n",
    "from sklearn.model_selection import cross_val_score\n",
    "\n",
    "lin_reg = LinearRegression()\n",
    "scores = cross_val_score(lin_reg, x_train_prepared, y_train, scoring= \"neg_mean_squared_error\", cv=10)\n",
    "rmse_scores = np.sqrt(-scores)"
   ]
  },
  {
   "cell_type": "code",
   "execution_count": 4,
   "id": "703b91e1",
   "metadata": {},
   "outputs": [
    {
     "name": "stdout",
     "output_type": "stream",
     "text": [
      "[5.39361414 4.93581561 5.16028153 5.45502356 5.24959012 4.85149871\n",
      " 4.86613414 5.1388391  5.27589023 4.96707092]\n"
     ]
    }
   ],
   "source": [
    "print(rmse_scores)"
   ]
  },
  {
   "cell_type": "code",
   "execution_count": 5,
   "id": "b539f7ef",
   "metadata": {},
   "outputs": [
    {
     "name": "stdout",
     "output_type": "stream",
     "text": [
      "5.129375804704698\n"
     ]
    }
   ],
   "source": [
    "print(rmse_scores.mean())"
   ]
  },
  {
   "cell_type": "code",
   "execution_count": 6,
   "id": "6b6cbe28",
   "metadata": {},
   "outputs": [
    {
     "data": {
      "text/plain": [
       "5.105424969786548"
      ]
     },
     "execution_count": 6,
     "metadata": {},
     "output_type": "execute_result"
    }
   ],
   "source": [
    "from sklearn.metrics import mean_squared_error\n",
    "from sklearn.metrics import mean_absolute_error\n",
    "\n",
    "# cross_val_score가 완료된 후에는 학습된 모델이 저장되지 않습니다\n",
    "\n",
    "lin_reg2 = LinearRegression()\n",
    "lin_reg2.fit(x_train_prepared, y_train)\n",
    "\n",
    "prediction = lin_reg2.predict(x_train_prepared)\n",
    "lin_mse = mean_squared_error(y_train, prediction)\n",
    "lin_rmse = np.sqrt(lin_mse)\n",
    "lin_rmse\n",
    "\n"
   ]
  },
  {
   "cell_type": "code",
   "execution_count": 7,
   "id": "6b5f8708",
   "metadata": {},
   "outputs": [
    {
     "data": {
      "text/plain": [
       "3.5899727079538803"
      ]
     },
     "execution_count": 7,
     "metadata": {},
     "output_type": "execute_result"
    }
   ],
   "source": [
    "# MAE 계산\n",
    "mae = mean_absolute_error(y_train, prediction)\n",
    "mae"
   ]
  },
  {
   "cell_type": "code",
   "execution_count": 8,
   "id": "ab67b4cc",
   "metadata": {},
   "outputs": [],
   "source": [
    "x_test, y_test\n",
    "\n",
    "\n",
    "# 'positionStringShort'와 'positionRow' 열 선택\n",
    "x_test_cat = x_test[['positionStringShort', 'positionRow']].values\n",
    "# OneHotEncoder 객체 생성\n",
    "cat_encoder2 = OneHotEncoder()\n",
    "# 원-핫 인코딩 적용\n",
    "x_test_cat_1hot = cat_encoder2.fit_transform(x_test_cat)\n",
    "\n",
    "# positionStringShort, positionRow은 카테고리컬\n",
    "x_test_num = x_test.drop([\"positionStringShort\", \"positionRow\"], axis=1)\n",
    "\n",
    "# 불리언 타입이 아닌 수치형 데이터만 선택\n",
    "numeric_features2 = x_test_num.select_dtypes(include=['int64', 'float64'])\n",
    "# StandardScaler 객체 생성\n",
    "scaler2 = StandardScaler()\n",
    "# 수치형 데이터에 표준화 적용\n",
    "numeric_features_scaled2 = scaler.transform(numeric_features2)\n",
    "# 스케일링된 데이터를 데이터프레임으로 변환 (원본 데이터프레임의 인덱스 사용)\n",
    "numeric_features_scaled_df2 = pd.DataFrame(numeric_features_scaled2, columns=numeric_features2.columns,\n",
    "                                          index=x_test_num.index)\n",
    "# 데이터를 소수점 셋째 자리에서 반올림\n",
    "numeric_features_scaled_df2 = numeric_features_scaled_df2.round(3)\n",
    "# 스케일링된 수치형 데이터프레임을 원본 데이터프레임과 병합\n",
    "data_num_scaled2 = x_test_num.copy()\n",
    "data_num_scaled2[numeric_features2.columns] = numeric_features_scaled_df2\n",
    "\n",
    "# 원-핫 인코딩된 데이터를 데이터프레임으로 변환\n",
    "x_test_cat_1hot_df = pd.DataFrame(x_test_cat_1hot.toarray(), columns=cat_encoder2.get_feature_names_out(),\n",
    "                                   index=x_test.index)\n",
    "\n",
    "# 불리언 타입의 데이터만 선택\n",
    "bool_features2 = x_test_num.select_dtypes(include=['bool'])\n",
    "\n",
    "\n",
    "# 스케일링된 수치형 데이터, 불리언 타입의 데이터, 원-핫 인코딩된 데이터 병합\n",
    "x_test_prepared = pd.concat([data_num_scaled2, bool_features2, x_test_cat_1hot_df], axis=1)"
   ]
  },
  {
   "cell_type": "code",
   "execution_count": 9,
   "id": "d6079865",
   "metadata": {},
   "outputs": [
    {
     "data": {
      "text/plain": [
       "5.591957290467666"
      ]
     },
     "execution_count": 9,
     "metadata": {},
     "output_type": "execute_result"
    }
   ],
   "source": [
    "prediction2 = lin_reg2.predict(x_test_prepared)\n",
    "lin_mse = mean_squared_error(y_test, prediction2)\n",
    "lin_rmse = np.sqrt(lin_mse)\n",
    "lin_rmse\n",
    "#아니 이렇게 다 작아버리면 어떡하지? 다른 모델도 해보자"
   ]
  },
  {
   "cell_type": "code",
   "execution_count": 10,
   "id": "1b651d3a",
   "metadata": {},
   "outputs": [
    {
     "name": "stdout",
     "output_type": "stream",
     "text": [
      "Mean Absolute Error: 3.91806282202957\n"
     ]
    }
   ],
   "source": [
    "# 테스트 데이터에 대한 예측을 생성합니다\n",
    "y_pred = lin_reg2.predict(x_test_prepared)\n",
    "\n",
    "# MAE 계산\n",
    "mae = mean_absolute_error(y_test, y_pred)\n",
    "print(\"Mean Absolute Error:\", mae)\n"
   ]
  },
  {
   "cell_type": "code",
   "execution_count": 11,
   "id": "1f025cf8",
   "metadata": {},
   "outputs": [
    {
     "name": "stdout",
     "output_type": "stream",
     "text": [
      "Index(['isCaptain', 'minutesPlayed', 'isGoalkeeper', 'goal', 'assist',\n",
      "       'yellowCard', 'redCard', 'total_shots', 'accurate_passes_rate(%)',\n",
      "       'chances_created', 'expected_goals(xG)',\n",
      "       'expected_goals_on_target(xGOT)', 'expected_assists(xA)', 'xG+xA',\n",
      "       'shot_accuracy(%)', 'blocked_shots', 'touches',\n",
      "       'touches_in_opposition_box', 'passes_into_final_third',\n",
      "       'long_balls_accuracy(%)', 'dispossessed', 'xG_Non_penalty',\n",
      "       'tackles_won_rate(%)', 'clearances', 'headed_clearance',\n",
      "       'defensive_actions', 'recoveries', 'dribbled_past', 'duels_won',\n",
      "       'duels_lost', 'ground_duels_won_rate(%)', 'aerial_duels_won_rate(%)',\n",
      "       'was_fouled', 'fouls_commited', 'dribble_success_rate(%)',\n",
      "       'penalties_won', 'big_chances_missed', 'crosses_success_rate(%)',\n",
      "       'isCaptain', 'isGoalkeeper', 'x0_AM', 'x0_CB', 'x0_CM', 'x0_DM',\n",
      "       'x0_GK', 'x0_LB', 'x0_LM', 'x0_LW', 'x0_RB', 'x0_RM', 'x0_RW', 'x0_ST',\n",
      "       'x1_0', 'x1_1', 'x1_2', 'x1_3', 'x1_4', 'x1_5'],\n",
      "      dtype='object')\n",
      "(8686, 58)\n"
     ]
    }
   ],
   "source": [
    "print(x_train_prepared.columns)\n",
    "print(x_train_prepared.shape)"
   ]
  },
  {
   "cell_type": "code",
   "execution_count": 12,
   "id": "d5aa205f",
   "metadata": {},
   "outputs": [],
   "source": [
    "eta = 0.1  # 학습률\n",
    "n_iterations = 1000  # 반복 횟수\n",
    "m = len(x_train_prepared)  # 샘플 개수\n",
    "\n",
    "# x_train_prepared와 y_train을 NumPy 배열로 변환\n",
    "X_b = np.c_[np.ones((m, 1)), x_train_prepared.values]  # x0 = 1 추가\n",
    "y = y_train.values.reshape(-1, 1)\n",
    "\n",
    "theta = np.random.randn(X_b.shape[1], 1)  # theta 초기화\n",
    "\n",
    "for iteration in range(n_iterations):\n",
    "    gradients = 2/m * X_b.T.dot(X_b.dot(theta) - y)\n",
    "    theta = theta - eta * gradients"
   ]
  },
  {
   "cell_type": "code",
   "execution_count": 13,
   "id": "da6f85d8",
   "metadata": {},
   "outputs": [
    {
     "name": "stdout",
     "output_type": "stream",
     "text": [
      "Test MSE: 31.280835238342505\n",
      "Test RMSE: 5.592927251300745\n"
     ]
    }
   ],
   "source": [
    "# 테스트 데이터 준비 (1을 추가해야 합니다)\n",
    "X_test_b = np.c_[np.ones((len(x_test_prepared), 1)), x_test_prepared.values]\n",
    "\n",
    "# 테스트 데이터에 대한 예측 수행\n",
    "y_pred = X_test_b.dot(theta)\n",
    "\n",
    "test_mse = mean_squared_error(y_test, y_pred)\n",
    "test_rmse = np.sqrt(test_mse)\n",
    "\n",
    "print(\"Test MSE:\", test_mse)\n",
    "print(\"Test RMSE:\", test_rmse)"
   ]
  },
  {
   "cell_type": "code",
   "execution_count": null,
   "id": "b768bdf4",
   "metadata": {},
   "outputs": [],
   "source": []
  },
  {
   "cell_type": "code",
   "execution_count": 14,
   "id": "0ef49196",
   "metadata": {
    "scrolled": true
   },
   "outputs": [
    {
     "name": "stdout",
     "output_type": "stream",
     "text": [
      "Root Mean Squared Error: 71716578302.2314\n",
      "Mean Absolute Error: 5725556127.485703\n"
     ]
    }
   ],
   "source": [
    "from sklearn.linear_model import SGDRegressor\n",
    "sgd_reg = SGDRegressor(max_iter=5000, tol=1e-3, penalty=None, eta0=0.1)\n",
    "sgd_reg.fit(x_train_prepared, y_train)\n",
    "\n",
    "# 테스트 데이터에 대한 예측을 생성합니다\n",
    "prediction3 = sgd_reg.predict(x_test_prepared)\n",
    "\n",
    "sgd_mse = mean_squared_error(y_test, prediction3)\n",
    "sgd_rmse = np.sqrt(sgd_mse)\n",
    "print(\"Root Mean Squared Error:\", sgd_rmse)\n",
    "# MAE 계산\n",
    "sgd_mae = mean_absolute_error(y_test, prediction3)\n",
    "print(\"Mean Absolute Error:\", sgd_mae)\n"
   ]
  },
  {
   "cell_type": "code",
   "execution_count": 15,
   "id": "25042ff3",
   "metadata": {},
   "outputs": [
    {
     "name": "stdout",
     "output_type": "stream",
     "text": [
      "L1 규제 RMSE: 5.601449375106179\n",
      "L1 규제 MAE: 3.9346237679150944\n",
      "65.55577668593455\n",
      "68.0\n"
     ]
    }
   ],
   "source": [
    "# L1 규제를 적용한 SGDRegressor 모델 생성\n",
    "sgd_reg_l1 = SGDRegressor(max_iter=1000, tol=1e-3, penalty='l1', eta0=0.01)\n",
    "sgd_reg_l1.fit(x_train_prepared, y_train)\n",
    "\n",
    "# 테스트 데이터에 대한 예측 생성 및 성능 평가\n",
    "prediction_l1 = sgd_reg_l1.predict(x_test_prepared)\n",
    "mse_l1 = mean_squared_error(y_test, prediction_l1)\n",
    "rmse_l1 = np.sqrt(mse_l1)\n",
    "print(\"L1 규제 RMSE:\", rmse_l1)\n",
    "mae_l1 = mean_absolute_error(y_test, prediction_l1)\n",
    "print(\"L1 규제 MAE:\", mae_l1)\n",
    "print(prediction_l1[0])\n",
    "print(y_test.iloc[0])"
   ]
  },
  {
   "cell_type": "code",
   "execution_count": 16,
   "id": "f96a2479",
   "metadata": {},
   "outputs": [
    {
     "name": "stdout",
     "output_type": "stream",
     "text": [
      "L2 규제 RMSE: 5.611720782681402\n",
      "L2 규제 MAE: 3.9346237679150944\n",
      "65.44101953360965\n",
      "68.0\n"
     ]
    }
   ],
   "source": [
    "# L2 규제를 적용한 SGDRegressor 모델 생성\n",
    "sgd_reg_l2 = SGDRegressor(max_iter=1000, tol=1e-3, penalty='l2', eta0=0.01)\n",
    "sgd_reg_l2.fit(x_train_prepared, y_train)\n",
    "\n",
    "# 테스트 데이터에 대한 예측 생성 및 성능 평가\n",
    "prediction_l2 = sgd_reg_l2.predict(x_test_prepared)\n",
    "mse_l2 = mean_squared_error(y_test, prediction_l2)\n",
    "rmse_l2 = np.sqrt(mse_l2)\n",
    "print(\"L2 규제 RMSE:\", rmse_l2)\n",
    "mae_l2 = mean_absolute_error(y_test, prediction_l2)\n",
    "print(\"L2 규제 MAE:\", mae_l1)\n",
    "print(prediction_l2[0])\n",
    "print(y_test.iloc[0])"
   ]
  },
  {
   "cell_type": "code",
   "execution_count": 17,
   "id": "1512d64c",
   "metadata": {},
   "outputs": [
    {
     "name": "stdout",
     "output_type": "stream",
     "text": [
      "elastic 규제 RMSE: 5.611720782681402\n",
      "elastic 규제 MAE: 3.9346237679150944\n"
     ]
    }
   ],
   "source": [
    "from sklearn.linear_model import ElasticNet\n",
    "elastic_net = ElasticNet(alpha=0.1, l1_ratio=0.5)\n",
    "elastic_net.fit(x_train_prepared, y_train)\n",
    "\n",
    "# 테스트 데이터에 대한 예측 생성 및 성능 평가\n",
    "prediction_ela = sgd_reg_l2.predict(x_test_prepared)\n",
    "mse_ela = mean_squared_error(y_test, prediction_ela)\n",
    "rmse_ela = np.sqrt(mse_ela)\n",
    "print(\"elastic 규제 RMSE:\", rmse_ela)\n",
    "mae_ela = mean_absolute_error(y_test, prediction_ela)\n",
    "print(\"elastic 규제 MAE:\", mae_l1)"
   ]
  },
  {
   "cell_type": "code",
   "execution_count": 18,
   "id": "4e93885e",
   "metadata": {
    "scrolled": true
   },
   "outputs": [
    {
     "name": "stdout",
     "output_type": "stream",
     "text": [
      "67849707324.97589 {'alpha': 0.0038454011884736248, 'eta0': 0.10507143064099161, 'penalty': 'elasticnet'}\n",
      "50291183298.15336 {'alpha': 0.007896910002727693, 'eta0': 0.0696850157946487, 'penalty': 'l1'}\n",
      "5.1593269913649875 {'alpha': 0.0016599452033620266, 'eta0': 0.015808361216819947, 'penalty': 'None'}\n",
      "5.152963744327461 {'alpha': 0.0034370861113902185, 'eta0': 0.02428668179219408, 'penalty': 'elasticnet'}\n",
      "87100418384.2463 {'alpha': 0.0003058449429580245, 'eta0': 0.10699098521619943, 'penalty': 'None'}\n",
      "5.145852987357484 {'alpha': 0.009485527090157502, 'eta0': 0.010077876584101433, 'penalty': 'None'}\n",
      "5.185594139091758 {'alpha': 0.0019340450985343381, 'eta0': 0.04042422429595378, 'penalty': 'l1'}\n",
      "5.148148086283851 {'alpha': 0.00017066305219717406, 'eta0': 0.012306242504141576, 'penalty': 'elasticnet'}\n",
      "5.171778407429555 {'alpha': 0.006218528947223795, 'eta0': 0.023949386065204185, 'penalty': 'None'}\n",
      "5.188227698133592 {'alpha': 0.00983755518841459, 'eta0': 0.033277134043030426, 'penalty': 'l1'}\n",
      "5.185579551394276 {'alpha': 0.007951759613930135, 'eta0': 0.029967378215835977, 'penalty': 'elasticnet'}\n",
      "1398217.9360074017 {'alpha': 0.009932308858067881, 'eta0': 0.056676289324798, 'penalty': 'l2'}\n",
      "5.175390184084731 {'alpha': 0.0061754485190143845, 'eta0': 0.027052412368729156, 'penalty': 'elasticnet'}\n",
      "91750147423.63531 {'alpha': 0.0002326496115986653, 'eta0': 0.10422017556848527, 'penalty': 'l1'}\n",
      "5.237371641022425 {'alpha': 0.00818397348116461, 'eta0': 0.04046137691733707, 'penalty': 'l2'}\n",
      "5.215938547563286 {'alpha': 0.00240893825622149, 'eta0': 0.034102546602601175, 'penalty': 'None'}\n",
      "141961097.67674565 {'alpha': 0.0013203823484477884, 'eta0': 0.05951769101112702, 'penalty': 'elasticnet'}\n",
      "5.810220206769699 {'alpha': 0.0018336465350777208, 'eta0': 0.049106060757324085, 'penalty': 'l1'}\n",
      "5.1858087939159425 {'alpha': 0.00672522284353982, 'eta0': 0.0411711076089411, 'penalty': 'l1'}\n",
      "41006120550.86906 {'alpha': 0.0021794166286818882, 'eta0': 0.06677003278199915, 'penalty': 'l2'}\n",
      "66087526048.96209 {'alpha': 0.009795846277645586, 'eta0': 0.08751328233611146, 'penalty': 'l1'}\n",
      "69788684170.69922 {'alpha': 0.004051502360018145, 'eta0': 0.10266588657937942, 'penalty': 'elasticnet'}\n",
      "5.1500661298470884 {'alpha': 0.009318742350231168, 'eta0': 0.01884925020519195, 'penalty': 'elasticnet'}\n",
      "76975264273.52963 {'alpha': 0.005308342600258237, 'eta0': 0.10611720243493492, 'penalty': 'l2'}\n",
      "5.206244995612216 {'alpha': 0.00398677289689482, 'eta0': 0.03713490317738959, 'penalty': 'l2'}\n",
      "65512469839.27521 {'alpha': 0.005967511656638482, 'eta0': 0.1065255307264138, 'penalty': 'None'}\n",
      "5.156230937855628 {'alpha': 0.005526960831582485, 'eta0': 0.024092422497476264, 'penalty': 'elasticnet'}\n",
      "5.1519853744133455 {'alpha': 0.001752669390630025, 'eta0': 0.011563640674119394, 'penalty': 'l2'}\n",
      "5.199786879664623 {'alpha': 0.007822447692966574, 'eta0': 0.029871568153417245, 'penalty': 'None'}\n",
      "5.187355887683488 {'alpha': 0.00024079822715084454, 'eta0': 0.02988424040888052, 'penalty': 'None'}\n",
      "67214155320.18003 {'alpha': 0.007390071680409873, 'eta0': 0.08712703466859457, 'penalty': 'l2'}\n",
      "55145788438.13579 {'alpha': 0.009363008785133489, 'eta0': 0.07510770255019444, 'penalty': 'None'}\n",
      "51640930130.16349 {'alpha': 0.008731034258755935, 'eta0': 0.07232981268275579, 'penalty': 'l1'}\n",
      "5.202051468667399 {'alpha': 0.0010541011649041131, 'eta0': 0.04708182521982664, 'penalty': 'l1'}\n",
      "72240161332.21945 {'alpha': 0.0033518332202674703, 'eta0': 0.0829606178338064, 'penalty': 'None'}\n",
      "31960781993.168266 {'alpha': 0.0028472179299006417, 'eta0': 0.06612434258477011, 'penalty': 'elasticnet'}\n",
      "56427403283.98041 {'alpha': 0.001295942459383017, 'eta0': 0.0813244787222995, 'penalty': 'l2'}\n",
      "5.167919015318399 {'alpha': 0.007317295211648732, 'eta0': 0.033598491974895575, 'penalty': 'l1'}\n",
      "1475068149.504968 {'alpha': 0.005037955963643908, 'eta0': 0.06227328293819941, 'penalty': 'elasticnet'}\n",
      "5.232363867959293 {'alpha': 0.0012089082081183132, 'eta0': 0.05393365018657702, 'penalty': 'elasticnet'}\n",
      "57031303775.29029 {'alpha': 0.0004142918568673425, 'eta0': 0.07364104112637804, 'penalty': 'None'}\n",
      "61728784776.59649 {'alpha': 0.005732755719763837, 'eta0': 0.07955160864261275, 'penalty': 'l2'}\n",
      "5.201394304879269 {'alpha': 0.0025929222914887495, 'eta0': 0.05103829230356298, 'penalty': 'elasticnet'}\n",
      "87952864771.03458 {'alpha': 0.002130612247347694, 'eta0': 0.1042853570557981, 'penalty': 'elasticnet'}\n",
      "5.171368718938457 {'alpha': 0.00299751452913768, 'eta0': 0.026122128725400443, 'penalty': 'l1'}\n",
      "5.241131713152899 {'alpha': 0.006343540481337933, 'eta0': 0.0395633685837714, 'penalty': 'l2'}\n",
      "62713604311.106895 {'alpha': 0.008814605901877177, 'eta0': 0.09036720768991145, 'penalty': 'None'}\n",
      "64026920616.286736 {'alpha': 0.004265099478703662, 'eta0': 0.09832802589188683, 'penalty': 'None'}\n",
      "65746881834.09025 {'alpha': 0.008174401551640625, 'eta0': 0.09960912999234932, 'penalty': 'elasticnet'}\n",
      "5.175850550674075 {'alpha': 0.00916828441545754, 'eta0': 0.03721322493846353, 'penalty': 'elasticnet'}\n",
      "최적의 파라미터: {'alpha': 0.009485527090157502, 'eta0': 0.010077876584101433, 'penalty': 'None'}\n"
     ]
    }
   ],
   "source": [
    "# SGDRegressor의 하이퍼파라미터 범위 설정\n",
    "param_distribs = {\n",
    "    'alpha': uniform(0.0001, 0.01),  # 규제 파라미터\n",
    "    'penalty': ['l2', 'l1', 'elasticnet', 'None'],  # 규제 종류\n",
    "    'eta0': uniform(0.01, 0.1)  # 학습률\n",
    "}\n",
    "\n",
    "# RandomizedSearchCV 설정\n",
    "sgd_reg = SGDRegressor(max_iter=5000, tol=1e-3)\n",
    "rnd_search = RandomizedSearchCV(sgd_reg, param_distributions=param_distribs,\n",
    "                                n_iter=50, cv=5, scoring='neg_mean_squared_error', random_state=42, return_train_score=True)\n",
    "\n",
    "# 랜덤 탐색 실행\n",
    "rnd_search.fit(x_train_prepared, y_train)\n",
    "\n",
    "# 결과 평가\n",
    "cvres = rnd_search.cv_results_\n",
    "for mean_score, params in zip(cvres[\"mean_test_score\"], cvres[\"params\"]):\n",
    "    print(np.sqrt(-mean_score), params)\n",
    "\n",
    "# 최적의 파라미터\n",
    "print(\"최적의 파라미터:\", rnd_search.best_params_)"
   ]
  },
  {
   "cell_type": "code",
   "execution_count": 19,
   "id": "c31a5ffc",
   "metadata": {
    "scrolled": true
   },
   "outputs": [
    {
     "name": "stdout",
     "output_type": "stream",
     "text": [
      "Optimal RMSE: 5.59178038641786\n",
      "Optimal MAE: 3.922524925236262\n"
     ]
    }
   ],
   "source": [
    "# 최적의 하이퍼파라미터로 SGDRegressor 모델 초기화\n",
    "optimal_sgd_reg = SGDRegressor(alpha=0.001752669390630025, eta0=0.011563640674119394, penalty='l2', \n",
    "                               max_iter=1000, tol=1e-3)\n",
    "\n",
    "# 모델 학습\n",
    "optimal_sgd_reg.fit(x_train_prepared, y_train)\n",
    "\n",
    "# 테스트 데이터에 대한 예측\n",
    "y_pred_optimal = optimal_sgd_reg.predict(x_test_prepared)\n",
    "\n",
    "# 성능 평가: MSE와 RMSE\n",
    "optimal_mse = mean_squared_error(y_test, y_pred_optimal)\n",
    "optimal_rmse = np.sqrt(optimal_mse)\n",
    "print(\"Optimal RMSE:\", optimal_rmse)\n",
    "\n",
    "# 성능 평가: MAE\n",
    "optimal_mae = mean_absolute_error(y_test, y_pred_optimal)\n",
    "print(\"Optimal MAE:\", optimal_mae)"
   ]
  },
  {
   "cell_type": "code",
   "execution_count": 20,
   "id": "0a81700e",
   "metadata": {},
   "outputs": [
    {
     "name": "stdout",
     "output_type": "stream",
     "text": [
      "(8686, 58)\n",
      "(8686, 799)\n"
     ]
    }
   ],
   "source": [
    "from sklearn.preprocessing import PolynomialFeatures\n",
    "\n",
    "poly_features = PolynomialFeatures(degree=2, include_bias=False)\n",
    "\n",
    "# 수치형 데이터에 대한 다항 특성 추가\n",
    "\n",
    "\n",
    "x_train_num_poly = poly_features.fit_transform(data_num_scaled)\n",
    "# 변환된 수치형 데이터를 데이터프레임으로 변환 (원본 데이터프레임의 인덱스 사용)\n",
    "x_train_num_poly_df = pd.DataFrame(x_train_num_poly, index=x_train_num.index)\n",
    "# 스케일링된 수치형 데이터, 불리언 타입의 데이터, 원-핫 인코딩된 데이터 병합\n",
    "x_train_prepared_poly = pd.concat([x_train_num_poly_df, bool_features, x_train_cat_1hot_df], axis=1)\n",
    "\n",
    "print(x_train_prepared.shape)\n",
    "print(x_train_prepared_poly.shape)\n",
    "\n",
    "\n",
    "\n",
    "x_test_num_poly = poly_features.transform(data_num_scaled2)\n",
    "# 변환된 수치형 데이터를 데이터프레임으로 변환 (원본 데이터프레임의 인덱스 사용)\n",
    "x_test_num_poly_df = pd.DataFrame(x_test_num_poly, index=x_test_num.index)\n",
    "# 스케일링된 수치형 데이터, 불리언 타입의 데이터, 원-핫 인코딩된 데이터 병합\n",
    "x_test_prepared_poly = pd.concat([x_test_num_poly_df, bool_features2, x_test_cat_1hot_df], axis=1)\n",
    "\n",
    "\n"
   ]
  },
  {
   "cell_type": "code",
   "execution_count": 21,
   "id": "e889391f",
   "metadata": {},
   "outputs": [
    {
     "name": "stderr",
     "output_type": "stream",
     "text": [
      "C:\\Users\\junhe\\anaconda3\\lib\\site-packages\\sklearn\\utils\\validation.py:1688: FutureWarning: Feature names only support names that are all strings. Got feature names with dtypes: ['int', 'str']. An error will be raised in 1.2.\n",
      "  warnings.warn(\n",
      "C:\\Users\\junhe\\anaconda3\\lib\\site-packages\\sklearn\\utils\\validation.py:1688: FutureWarning: Feature names only support names that are all strings. Got feature names with dtypes: ['int', 'str']. An error will be raised in 1.2.\n",
      "  warnings.warn(\n"
     ]
    },
    {
     "name": "stdout",
     "output_type": "stream",
     "text": [
      "Optimal RMSE: 2388010431921.1997\n",
      "Optimal MAE: 391982779591.7112\n",
      "-28229751748.028835\n",
      "68.0\n"
     ]
    }
   ],
   "source": [
    "#  Polynomial Regression 모델 생성\n",
    "\n",
    "sgd_reg_poly = SGDRegressor(max_iter=10000, tol=1e-3, penalty='l1', eta0=0.01)\n",
    "sgd_reg_poly.fit(x_train_prepared_poly, y_train)\n",
    "\n",
    "# 테스트 데이터에 대한 예측\n",
    "prediction_sgd_reg_poly = sgd_reg_poly.predict(x_test_prepared_poly)\n",
    "\n",
    "# 성능 평가: MSE와 RMSE\n",
    "sgd_reg_poly_mse = mean_squared_error(y_test, prediction_sgd_reg_poly)\n",
    "sgd_reg_poly_rmse = np.sqrt(sgd_reg_poly_mse)\n",
    "print(\"Optimal RMSE:\", sgd_reg_poly_rmse)\n",
    "\n",
    "# 성능 평가: MAE\n",
    "sgd_reg_poly_mae = mean_absolute_error(y_test, prediction_sgd_reg_poly)\n",
    "print(\"Optimal MAE:\", sgd_reg_poly_mae)\n",
    "\n",
    "print(prediction_sgd_reg_poly[0])\n",
    "print(y_test.iloc[0])"
   ]
  },
  {
   "cell_type": "code",
   "execution_count": 22,
   "id": "0d172e0e",
   "metadata": {},
   "outputs": [
    {
     "name": "stderr",
     "output_type": "stream",
     "text": [
      "C:\\Users\\junhe\\anaconda3\\lib\\site-packages\\sklearn\\utils\\validation.py:1688: FutureWarning: Feature names only support names that are all strings. Got feature names with dtypes: ['int', 'str']. An error will be raised in 1.2.\n",
      "  warnings.warn(\n",
      "C:\\Users\\junhe\\anaconda3\\lib\\site-packages\\sklearn\\utils\\validation.py:1688: FutureWarning: Feature names only support names that are all strings. Got feature names with dtypes: ['int', 'str']. An error will be raised in 1.2.\n",
      "  warnings.warn(\n"
     ]
    },
    {
     "name": "stdout",
     "output_type": "stream",
     "text": [
      "RMSE: 418594944467.9428\n",
      "MAE: 15502572843.912329\n",
      "Predicted: 66.7647705078125\n",
      "Actual: 68.0\n"
     ]
    }
   ],
   "source": [
    "#  Polynomial Regression 모델 생성\n",
    "lin_reg_poly = LinearRegression()\n",
    "lin_reg_poly.fit(x_train_prepared_poly, y_train)\n",
    "\n",
    "# 테스트 데이터에 대한 예측\n",
    "prediction_lin_reg_poly = lin_reg_poly.predict(x_test_prepared_poly)\n",
    "\n",
    "# 성능 평가: MSE와 RMSE\n",
    "lin_reg_poly_mse = mean_squared_error(y_test, prediction_lin_reg_poly)\n",
    "lin_reg_poly_rmse = np.sqrt(lin_reg_poly_mse)\n",
    "print(\"RMSE:\", lin_reg_poly_rmse)\n",
    "\n",
    "# 성능 평가: MAE\n",
    "lin_reg_poly_mae = mean_absolute_error(y_test, prediction_lin_reg_poly)\n",
    "print(\"MAE:\", lin_reg_poly_mae)\n",
    "\n",
    "# 예측값과 실제값 출력\n",
    "print(\"Predicted:\", prediction_lin_reg_poly[15])\n",
    "print(\"Actual:\", y_test.iloc[15])\n",
    "\n",
    "\n",
    "# 결과는 좋은데 -> 왜 rmse, mae가 이따위지?\n",
    "# svm 커널 ->2차와 관련성??\n"
   ]
  },
  {
   "cell_type": "code",
   "execution_count": null,
   "id": "cdaaf5b3",
   "metadata": {},
   "outputs": [],
   "source": []
  },
  {
   "cell_type": "code",
   "execution_count": null,
   "id": "89fcae85",
   "metadata": {},
   "outputs": [],
   "source": []
  },
  {
   "cell_type": "code",
   "execution_count": null,
   "id": "ddc505be",
   "metadata": {},
   "outputs": [],
   "source": []
  }
 ],
 "metadata": {
  "kernelspec": {
   "display_name": "Python 3 (ipykernel)",
   "language": "python",
   "name": "python3"
  },
  "language_info": {
   "codemirror_mode": {
    "name": "ipython",
    "version": 3
   },
   "file_extension": ".py",
   "mimetype": "text/x-python",
   "name": "python",
   "nbconvert_exporter": "python",
   "pygments_lexer": "ipython3",
   "version": "3.9.18"
  }
 },
 "nbformat": 4,
 "nbformat_minor": 5
}
