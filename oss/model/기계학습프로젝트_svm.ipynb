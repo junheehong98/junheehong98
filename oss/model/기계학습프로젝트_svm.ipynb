{
 "cells": [
  {
   "cell_type": "code",
   "execution_count": 1,
   "id": "8fd8f97a",
   "metadata": {},
   "outputs": [],
   "source": [
    "import numpy as np\n",
    "import pandas as pd\n",
    "import matplotlib.pyplot as plt\n",
    "from sklearn.model_selection import train_test_split\n",
    "from sklearn.impute import SimpleImputer\n",
    "from sklearn.preprocessing import OneHotEncoder\n",
    "from sklearn.preprocessing import StandardScaler\n",
    "from sklearn.linear_model import SGDRegressor\n",
    "from sklearn.model_selection import RandomizedSearchCV\n",
    "from scipy.stats import uniform\n",
    "\n",
    "from sklearn.model_selection import cross_val_score\n",
    "\n",
    "from sklearn.metrics import mean_squared_error\n",
    "from sklearn.metrics import mean_absolute_error\n",
    "\n",
    "from sklearn.svm import LinearSVR\n",
    "from sklearn.svm import SVR\n",
    "from scipy.stats import entropy"
   ]
  },
  {
   "cell_type": "code",
   "execution_count": 2,
   "id": "b052401a",
   "metadata": {},
   "outputs": [],
   "source": [
    "\n",
    "data = pd.read_csv('modified_data7.csv', encoding='cp1252')\n",
    "\n",
    "# 필요없는 피처 날리기\n",
    "data = data.drop(\"subbedOutTime\", axis=1)\n",
    "data = data.drop(\"position\", axis=1)\n",
    "data = data.drop(\"fantasyScore\", axis=1)\n",
    "\n",
    "# 포지션만 있고 세부 포지션 널값처리\n",
    "# 'positionStringShort'의 널값이 있는 행 찾기\n",
    "null_positions = data[data['positionStringShort'].isna()]\n",
    "\n",
    "# 각 널값에 대해 처리\n",
    "for index, row in null_positions.iterrows():\n",
    "    # 현재 널값이 있는 행의 'name' 가져오기\n",
    "    name = row['name']\n",
    "    # 해당 'name'을 가진 모든 행에서 'positionStringShort'의 최빈값 찾기\n",
    "    most_frequent_position = data[data['name'] == name]['positionStringShort'].mode()[0]\n",
    "    # 널값 채우기\n",
    "    data.at[index, 'positionStringShort'] = most_frequent_position\n",
    "\n",
    "data = data.drop(\"name\", axis=1)\n",
    "# rating 널값 제거, 개수가 매우적어 없는거만 제거\n",
    "data = data.dropna(subset=[\"rating\"])\n",
    "\n",
    "# x , y 나누기\n",
    "data_x = data.drop(\"rating\", axis=1)\n",
    "data_y = data[\"rating\"]\n",
    "\n",
    "# 학습, 테스트 데이터 나누기\n",
    "x_train, x_test, y_train, y_test = train_test_split(data_x, data_y, test_size=0.2)\n",
    "\n",
    "# 'positionStringShort'와 'positionRow' 열 선택\n",
    "x_train_cat = x_train[['positionStringShort', 'positionRow']].values\n",
    "# OneHotEncoder 객체 생성\n",
    "cat_encoder = OneHotEncoder()\n",
    "# 원-핫 인코딩 적용\n",
    "x_train_cat_1hot = cat_encoder.fit_transform(x_train_cat)\n",
    "# positionStringShort, positionRow은 카테고리컬\n",
    "x_train_num = x_train.drop([\"positionStringShort\", \"positionRow\"], axis=1)\n",
    "\n",
    "# 불리언 타입이 아닌 수치형 데이터만 선택\n",
    "numeric_features = x_train_num.select_dtypes(include=['int64', 'float64'])\n",
    "# StandardScaler 객체 생성\n",
    "scaler = StandardScaler()\n",
    "# 수치형 데이터에 표준화 적용\n",
    "numeric_features_scaled = scaler.fit_transform(numeric_features)\n",
    "# 스케일링된 데이터를 데이터프레임으로 변환 (원본 데이터프레임의 인덱스 사용)\n",
    "numeric_features_scaled_df = pd.DataFrame(numeric_features_scaled, columns=numeric_features.columns,\n",
    "                                          index=x_train_num.index)\n",
    "# 데이터를 소수점 셋째 자리에서 반올림\n",
    "numeric_features_scaled_df = numeric_features_scaled_df.round(3)\n",
    "# 스케일링된 수치형 데이터프레임을 원본 데이터프레임과 병합\n",
    "data_num_scaled = x_train_num.copy()\n",
    "data_num_scaled[numeric_features.columns] = numeric_features_scaled_df\n",
    "\n",
    "# 원-핫 인코딩된 데이터를 데이터프레임으로 변환\n",
    "x_train_cat_1hot_df = pd.DataFrame(x_train_cat_1hot.toarray(), columns=cat_encoder.get_feature_names_out(),\n",
    "                                   index=x_train.index)\n",
    "\n",
    "# 불리언 타입의 데이터만 선택\n",
    "bool_features = x_train_num.select_dtypes(include=['bool'])\n",
    "\n",
    "\n",
    "# 스케일링된 수치형 데이터, 불리언 타입의 데이터, 원-핫 인코딩된 데이터 병합\n",
    "x_train_prepared = pd.concat([data_num_scaled, bool_features, x_train_cat_1hot_df], axis=1)\n"
   ]
  },
  {
   "cell_type": "code",
   "execution_count": 3,
   "id": "1c396596",
   "metadata": {},
   "outputs": [],
   "source": [
    "# x_test, y_test\n",
    "\n",
    "\n",
    "# 'positionStringShort'와 'positionRow' 열 선택\n",
    "x_test_cat = x_test[['positionStringShort', 'positionRow']].values\n",
    "# OneHotEncoder 객체 생성\n",
    "cat_encoder2 = OneHotEncoder()\n",
    "# 원-핫 인코딩 적용\n",
    "x_test_cat_1hot = cat_encoder2.fit_transform(x_test_cat)\n",
    "\n",
    "# positionStringShort, positionRow은 카테고리컬\n",
    "x_test_num = x_test.drop([\"positionStringShort\", \"positionRow\"], axis=1)\n",
    "\n",
    "# 불리언 타입이 아닌 수치형 데이터만 선택\n",
    "numeric_features2 = x_test_num.select_dtypes(include=['int64', 'float64'])\n",
    "# StandardScaler 객체 생성\n",
    "scaler2 = StandardScaler()\n",
    "# 수치형 데이터에 표준화 적용\n",
    "numeric_features_scaled2 = scaler.transform(numeric_features2)\n",
    "# 스케일링된 데이터를 데이터프레임으로 변환 (원본 데이터프레임의 인덱스 사용)\n",
    "numeric_features_scaled_df2 = pd.DataFrame(numeric_features_scaled2, columns=numeric_features2.columns,\n",
    "                                          index=x_test_num.index)\n",
    "# 데이터를 소수점 셋째 자리에서 반올림\n",
    "numeric_features_scaled_df2 = numeric_features_scaled_df2.round(3)\n",
    "# 스케일링된 수치형 데이터프레임을 원본 데이터프레임과 병합\n",
    "data_num_scaled2 = x_test_num.copy()\n",
    "data_num_scaled2[numeric_features2.columns] = numeric_features_scaled_df2\n",
    "\n",
    "# 원-핫 인코딩된 데이터를 데이터프레임으로 변환\n",
    "x_test_cat_1hot_df = pd.DataFrame(x_test_cat_1hot.toarray(), columns=cat_encoder2.get_feature_names_out(),\n",
    "                                   index=x_test.index)\n",
    "\n",
    "# 불리언 타입의 데이터만 선택\n",
    "bool_features2 = x_test_num.select_dtypes(include=['bool'])\n",
    "\n",
    "\n",
    "# 스케일링된 수치형 데이터, 불리언 타입의 데이터, 원-핫 인코딩된 데이터 병합\n",
    "x_test_prepared = pd.concat([data_num_scaled2, bool_features2, x_test_cat_1hot_df], axis=1)"
   ]
  },
  {
   "cell_type": "code",
   "execution_count": 4,
   "id": "2d53729f",
   "metadata": {},
   "outputs": [
    {
     "name": "stderr",
     "output_type": "stream",
     "text": [
      "C:\\Users\\junhe\\anaconda3\\lib\\site-packages\\sklearn\\svm\\_base.py:1206: ConvergenceWarning: Liblinear failed to converge, increase the number of iterations.\n",
      "  warnings.warn(\n",
      "C:\\Users\\junhe\\anaconda3\\lib\\site-packages\\sklearn\\svm\\_base.py:1206: ConvergenceWarning: Liblinear failed to converge, increase the number of iterations.\n",
      "  warnings.warn(\n",
      "C:\\Users\\junhe\\anaconda3\\lib\\site-packages\\sklearn\\svm\\_base.py:1206: ConvergenceWarning: Liblinear failed to converge, increase the number of iterations.\n",
      "  warnings.warn(\n",
      "C:\\Users\\junhe\\anaconda3\\lib\\site-packages\\sklearn\\svm\\_base.py:1206: ConvergenceWarning: Liblinear failed to converge, increase the number of iterations.\n",
      "  warnings.warn(\n",
      "C:\\Users\\junhe\\anaconda3\\lib\\site-packages\\sklearn\\svm\\_base.py:1206: ConvergenceWarning: Liblinear failed to converge, increase the number of iterations.\n",
      "  warnings.warn(\n",
      "C:\\Users\\junhe\\anaconda3\\lib\\site-packages\\sklearn\\svm\\_base.py:1206: ConvergenceWarning: Liblinear failed to converge, increase the number of iterations.\n",
      "  warnings.warn(\n",
      "C:\\Users\\junhe\\anaconda3\\lib\\site-packages\\sklearn\\svm\\_base.py:1206: ConvergenceWarning: Liblinear failed to converge, increase the number of iterations.\n",
      "  warnings.warn(\n",
      "C:\\Users\\junhe\\anaconda3\\lib\\site-packages\\sklearn\\svm\\_base.py:1206: ConvergenceWarning: Liblinear failed to converge, increase the number of iterations.\n",
      "  warnings.warn(\n",
      "C:\\Users\\junhe\\anaconda3\\lib\\site-packages\\sklearn\\svm\\_base.py:1206: ConvergenceWarning: Liblinear failed to converge, increase the number of iterations.\n",
      "  warnings.warn(\n",
      "C:\\Users\\junhe\\anaconda3\\lib\\site-packages\\sklearn\\svm\\_base.py:1206: ConvergenceWarning: Liblinear failed to converge, increase the number of iterations.\n",
      "  warnings.warn(\n"
     ]
    }
   ],
   "source": [
    "svm_reg = LinearSVR(epsilon = 0.1,C=50, max_iter=7000)\n",
    "scores = cross_val_score(svm_reg, x_train_prepared, y_train, scoring= \"neg_mean_squared_error\", cv=10)\n",
    "rmse_scores = np.sqrt(-scores)"
   ]
  },
  {
   "cell_type": "code",
   "execution_count": 5,
   "id": "ea8e2302",
   "metadata": {},
   "outputs": [
    {
     "name": "stdout",
     "output_type": "stream",
     "text": [
      "0.5493695267294244\n",
      "RMSE: 0.5339803328698297\n",
      "Optimal MAE: 0.3645365225233119\n"
     ]
    },
    {
     "name": "stderr",
     "output_type": "stream",
     "text": [
      "C:\\Users\\junhe\\anaconda3\\lib\\site-packages\\sklearn\\svm\\_base.py:1206: ConvergenceWarning: Liblinear failed to converge, increase the number of iterations.\n",
      "  warnings.warn(\n"
     ]
    }
   ],
   "source": [
    "print(rmse_scores.mean())\n",
    "svm_reg.fit(x_train_prepared, y_train)\n",
    "\n",
    "# 테스트 데이터에 대한 예측 생성 및 성능 평가\n",
    "prediction = svm_reg.predict(x_test_prepared)\n",
    "mse = mean_squared_error(y_test, prediction)\n",
    "rmse = np.sqrt(mse)\n",
    "print(\"RMSE:\", rmse)\n",
    "# 성능 평가: MAE\n",
    "mae = mean_absolute_error(y_test, prediction)\n",
    "print(\"Optimal MAE:\", mae)"
   ]
  },
  {
   "cell_type": "code",
   "execution_count": 6,
   "id": "f49ff9f4",
   "metadata": {},
   "outputs": [
    {
     "name": "stdout",
     "output_type": "stream",
     "text": [
      "7.075503616209664\n",
      "7.013271320685217\n"
     ]
    },
    {
     "data": {
      "image/png": "[encoded data removed]",
      "text/plain": [
       "<Figure size 1000x400 with 2 Axes>"
      ]
     },
     "metadata": {},
     "output_type": "display_data"
    }
   ],
   "source": [
    "# prediction에 대한 히스토그램\n",
    "plt.figure(figsize=(10, 4))\n",
    "plt.subplot(1, 2, 1)\n",
    "plt.hist(prediction, bins=100, width=0.1, align='left')\n",
    "plt.xticks(np.arange(0, 11, 1))\n",
    "plt.xticks(rotation=90, fontsize=8)\n",
    "plt.title('Histogram of prediction')\n",
    "\n",
    "\n",
    "# target 'rating'에 대한 히스토그램\n",
    "plt.subplot(1, 2, 2)\n",
    "plt.hist(data['rating'], bins=100, width=0.1, align='left')\n",
    "plt.xticks(np.arange(0, 11, 1))\n",
    "plt.xticks(rotation=90, fontsize=8)\n",
    "plt.title('Histogram of ratings')\n",
    "\n",
    "print(prediction.mean())\n",
    "print(data['rating'].mean())"
   ]
  },
  {
   "cell_type": "code",
   "execution_count": 7,
   "id": "48f5d6ce",
   "metadata": {},
   "outputs": [
    {
     "data": {
      "text/plain": [
       "2.3718797206700186"
      ]
     },
     "execution_count": 7,
     "metadata": {},
     "output_type": "execute_result"
    }
   ],
   "source": [
    "# 히스토그램을 확률 분포로 변환\n",
    "hist1, bin_edges1 = np.histogram(prediction, bins=30, density=True)\n",
    "hist2, bin_edges2 = np.histogram(data['rating'], bins=30, density=True)\n",
    "\n",
    "# 0 값을 가진 히스토그램 bin을 처리 (KL Divergence는 0 로그 불가능)\n",
    "hist1 = np.where(hist1 == 0, 1e-10, hist1)\n",
    "hist2 = np.where(hist2 == 0, 1e-10, hist2)\n",
    "\n",
    "# 쿨백-라이블러 발산 계산\n",
    "kl_divergence = entropy(hist1, hist2)\n",
    "\n",
    "kl_divergence\n"
   ]
  },
  {
   "cell_type": "code",
   "execution_count": 8,
   "id": "550bfe35",
   "metadata": {},
   "outputs": [
    {
     "name": "stderr",
     "output_type": "stream",
     "text": [
      "C:\\Users\\junhe\\anaconda3\\lib\\site-packages\\sklearn\\svm\\_base.py:284: ConvergenceWarning: Solver terminated early (max_iter=1000).  Consider pre-processing your data with StandardScaler or MinMaxScaler.\n",
      "  warnings.warn(\n",
      "C:\\Users\\junhe\\anaconda3\\lib\\site-packages\\sklearn\\svm\\_base.py:284: ConvergenceWarning: Solver terminated early (max_iter=1000).  Consider pre-processing your data with StandardScaler or MinMaxScaler.\n",
      "  warnings.warn(\n",
      "C:\\Users\\junhe\\anaconda3\\lib\\site-packages\\sklearn\\svm\\_base.py:284: ConvergenceWarning: Solver terminated early (max_iter=1000).  Consider pre-processing your data with StandardScaler or MinMaxScaler.\n",
      "  warnings.warn(\n",
      "C:\\Users\\junhe\\anaconda3\\lib\\site-packages\\sklearn\\svm\\_base.py:284: ConvergenceWarning: Solver terminated early (max_iter=1000).  Consider pre-processing your data with StandardScaler or MinMaxScaler.\n",
      "  warnings.warn(\n",
      "C:\\Users\\junhe\\anaconda3\\lib\\site-packages\\sklearn\\svm\\_base.py:284: ConvergenceWarning: Solver terminated early (max_iter=1000).  Consider pre-processing your data with StandardScaler or MinMaxScaler.\n",
      "  warnings.warn(\n",
      "C:\\Users\\junhe\\anaconda3\\lib\\site-packages\\sklearn\\svm\\_base.py:284: ConvergenceWarning: Solver terminated early (max_iter=1000).  Consider pre-processing your data with StandardScaler or MinMaxScaler.\n",
      "  warnings.warn(\n",
      "C:\\Users\\junhe\\anaconda3\\lib\\site-packages\\sklearn\\svm\\_base.py:284: ConvergenceWarning: Solver terminated early (max_iter=1000).  Consider pre-processing your data with StandardScaler or MinMaxScaler.\n",
      "  warnings.warn(\n",
      "C:\\Users\\junhe\\anaconda3\\lib\\site-packages\\sklearn\\svm\\_base.py:284: ConvergenceWarning: Solver terminated early (max_iter=1000).  Consider pre-processing your data with StandardScaler or MinMaxScaler.\n",
      "  warnings.warn(\n",
      "C:\\Users\\junhe\\anaconda3\\lib\\site-packages\\sklearn\\svm\\_base.py:284: ConvergenceWarning: Solver terminated early (max_iter=1000).  Consider pre-processing your data with StandardScaler or MinMaxScaler.\n",
      "  warnings.warn(\n",
      "C:\\Users\\junhe\\anaconda3\\lib\\site-packages\\sklearn\\svm\\_base.py:284: ConvergenceWarning: Solver terminated early (max_iter=1000).  Consider pre-processing your data with StandardScaler or MinMaxScaler.\n",
      "  warnings.warn(\n"
     ]
    }
   ],
   "source": [
    "svm_poly_reg = SVR(kernel =\"poly\" ,degree=2, epsilon = 0.1, C=10, max_iter=1000)\n",
    "scores = cross_val_score(svm_poly_reg, x_train_prepared, y_train, scoring= \"neg_mean_squared_error\", cv=10)\n",
    "rmse_scores2 = np.sqrt(-scores)"
   ]
  },
  {
   "cell_type": "code",
   "execution_count": 9,
   "id": "cbdc1899",
   "metadata": {},
   "outputs": [
    {
     "name": "stdout",
     "output_type": "stream",
     "text": [
      "1.0440733329450145\n"
     ]
    }
   ],
   "source": [
    "print(rmse_scores2.mean())"
   ]
  },
  {
   "cell_type": "code",
   "execution_count": 10,
   "id": "79593d93",
   "metadata": {},
   "outputs": [
    {
     "name": "stderr",
     "output_type": "stream",
     "text": [
      "C:\\Users\\junhe\\anaconda3\\lib\\site-packages\\sklearn\\svm\\_base.py:284: ConvergenceWarning: Solver terminated early (max_iter=1000).  Consider pre-processing your data with StandardScaler or MinMaxScaler.\n",
      "  warnings.warn(\n"
     ]
    },
    {
     "name": "stdout",
     "output_type": "stream",
     "text": [
      "RMSE: 0.8984901746389217\n",
      "MAE: 0.686992060908501\n"
     ]
    }
   ],
   "source": [
    "svm_poly_reg.fit(x_train_prepared, y_train)\n",
    "\n",
    "# 테스트 데이터에 대한 예측 생성 및 성능 평가\n",
    "prediction_poly = svm_poly_reg.predict(x_test_prepared)\n",
    "mse_poly = mean_squared_error(y_test, prediction_poly)\n",
    "rmse_poly = np.sqrt(mse_poly)\n",
    "print(\"RMSE:\", rmse_poly)\n",
    "# 성능 평가: MAE\n",
    "mae_poly = mean_absolute_error(y_test, prediction_poly)\n",
    "print(\"MAE:\", mae_poly)"
   ]
  },
  {
   "cell_type": "code",
   "execution_count": 11,
   "id": "981e6ca0",
   "metadata": {},
   "outputs": [
    {
     "name": "stdout",
     "output_type": "stream",
     "text": [
      "7.075503616209664\n",
      "7.013271320685217\n"
     ]
    },
    {
     "data": {
      "image/png": "[encoded data removed]",
      "text/plain": [
       "<Figure size 1000x400 with 2 Axes>"
      ]
     },
     "metadata": {},
     "output_type": "display_data"
    }
   ],
   "source": [
    "# prediction_poly에 대한 히스토그램\n",
    "plt.figure(figsize=(10, 4))\n",
    "plt.subplot(1, 2, 1)\n",
    "plt.hist(prediction_poly, bins=100, width=0.1, align='left')\n",
    "plt.xticks(np.arange(0, 11, 1))\n",
    "plt.xticks(rotation=90, fontsize=8)\n",
    "plt.title('Histogram of prediction_poly')\n",
    "\n",
    "\n",
    "# target 'rating'에 대한 히스토그램\n",
    "plt.subplot(1, 2, 2)\n",
    "plt.hist(data['rating'], bins=100, width=0.1, align='left')\n",
    "plt.xticks(np.arange(0, 11, 1))\n",
    "plt.xticks(rotation=90, fontsize=8)\n",
    "plt.title('Histogram of ratings')\n",
    "\n",
    "print(prediction_poly.mean())\n",
    "print(data['rating'].mean())"
   ]
  },
  {
   "cell_type": "code",
   "execution_count": 12,
   "id": "7f1e6331",
   "metadata": {},
   "outputs": [
    {
     "data": {
      "text/plain": [
       "5.1692074965844"
      ]
     },
     "execution_count": 12,
     "metadata": {},
     "output_type": "execute_result"
    }
   ],
   "source": [
    "# 히스토그램을 확률 분포로 변환\n",
    "hist1, bin_edges1 = np.histogram(prediction_poly, bins=30, density=True)\n",
    "hist2, bin_edges2 = np.histogram(data['rating'], bins=30, density=True)\n",
    "\n",
    "# 0 값을 가진 히스토그램 bin을 처리 (KL Divergence는 0 로그 불가능)\n",
    "hist1 = np.where(hist1 == 0, 1e-10, hist1)\n",
    "hist2 = np.where(hist2 == 0, 1e-10, hist2)\n",
    "\n",
    "# 쿨백-라이블러 발산 계산\n",
    "kl_divergence = entropy(hist1, hist2)\n",
    "\n",
    "kl_divergence\n"
   ]
  },
  {
   "cell_type": "code",
   "execution_count": 13,
   "id": "8829f9fd",
   "metadata": {},
   "outputs": [
    {
     "name": "stderr",
     "output_type": "stream",
     "text": [
      "C:\\Users\\junhe\\anaconda3\\lib\\site-packages\\sklearn\\svm\\_base.py:284: ConvergenceWarning: Solver terminated early (max_iter=1000).  Consider pre-processing your data with StandardScaler or MinMaxScaler.\n",
      "  warnings.warn(\n",
      "C:\\Users\\junhe\\anaconda3\\lib\\site-packages\\sklearn\\svm\\_base.py:284: ConvergenceWarning: Solver terminated early (max_iter=1000).  Consider pre-processing your data with StandardScaler or MinMaxScaler.\n",
      "  warnings.warn(\n",
      "C:\\Users\\junhe\\anaconda3\\lib\\site-packages\\sklearn\\svm\\_base.py:284: ConvergenceWarning: Solver terminated early (max_iter=1000).  Consider pre-processing your data with StandardScaler or MinMaxScaler.\n",
      "  warnings.warn(\n",
      "C:\\Users\\junhe\\anaconda3\\lib\\site-packages\\sklearn\\svm\\_base.py:284: ConvergenceWarning: Solver terminated early (max_iter=1000).  Consider pre-processing your data with StandardScaler or MinMaxScaler.\n",
      "  warnings.warn(\n",
      "C:\\Users\\junhe\\anaconda3\\lib\\site-packages\\sklearn\\svm\\_base.py:284: ConvergenceWarning: Solver terminated early (max_iter=1000).  Consider pre-processing your data with StandardScaler or MinMaxScaler.\n",
      "  warnings.warn(\n",
      "C:\\Users\\junhe\\anaconda3\\lib\\site-packages\\sklearn\\svm\\_base.py:284: ConvergenceWarning: Solver terminated early (max_iter=1000).  Consider pre-processing your data with StandardScaler or MinMaxScaler.\n",
      "  warnings.warn(\n",
      "C:\\Users\\junhe\\anaconda3\\lib\\site-packages\\sklearn\\svm\\_base.py:284: ConvergenceWarning: Solver terminated early (max_iter=1000).  Consider pre-processing your data with StandardScaler or MinMaxScaler.\n",
      "  warnings.warn(\n",
      "C:\\Users\\junhe\\anaconda3\\lib\\site-packages\\sklearn\\svm\\_base.py:284: ConvergenceWarning: Solver terminated early (max_iter=1000).  Consider pre-processing your data with StandardScaler or MinMaxScaler.\n",
      "  warnings.warn(\n",
      "C:\\Users\\junhe\\anaconda3\\lib\\site-packages\\sklearn\\svm\\_base.py:284: ConvergenceWarning: Solver terminated early (max_iter=1000).  Consider pre-processing your data with StandardScaler or MinMaxScaler.\n",
      "  warnings.warn(\n",
      "C:\\Users\\junhe\\anaconda3\\lib\\site-packages\\sklearn\\svm\\_base.py:284: ConvergenceWarning: Solver terminated early (max_iter=1000).  Consider pre-processing your data with StandardScaler or MinMaxScaler.\n",
      "  warnings.warn(\n"
     ]
    }
   ],
   "source": [
    "svm_rbf_reg = SVR(kernel =\"rbf\" , epsilon = 0.1, C=10, max_iter=1000)\n",
    "scores = cross_val_score(svm_rbf_reg, x_train_prepared, y_train, scoring= \"neg_mean_squared_error\", cv=10)\n",
    "rmse_scores3 = np.sqrt(-scores)"
   ]
  },
  {
   "cell_type": "code",
   "execution_count": 14,
   "id": "012f8d14",
   "metadata": {},
   "outputs": [
    {
     "name": "stdout",
     "output_type": "stream",
     "text": [
      "0.622095417248571\n"
     ]
    }
   ],
   "source": [
    "print(rmse_scores3.mean())"
   ]
  },
  {
   "cell_type": "code",
   "execution_count": 15,
   "id": "82df6f69",
   "metadata": {},
   "outputs": [
    {
     "name": "stderr",
     "output_type": "stream",
     "text": [
      "C:\\Users\\junhe\\anaconda3\\lib\\site-packages\\sklearn\\svm\\_base.py:284: ConvergenceWarning: Solver terminated early (max_iter=1000).  Consider pre-processing your data with StandardScaler or MinMaxScaler.\n",
      "  warnings.warn(\n"
     ]
    },
    {
     "name": "stdout",
     "output_type": "stream",
     "text": [
      "RMSE: 0.6609597393559015\n",
      "Optimal MAE: 0.48651235284017613\n"
     ]
    }
   ],
   "source": [
    "svm_rbf_reg.fit(x_train_prepared, y_train)\n",
    "\n",
    "# 테스트 데이터에 대한 예측 생성 및 성능 평가\n",
    "prediction_rbf = svm_rbf_reg.predict(x_test_prepared)\n",
    "mse_rbf = mean_squared_error(y_test, prediction_rbf)\n",
    "rmse_rbf = np.sqrt(mse_rbf)\n",
    "print(\"RMSE:\", rmse_rbf)\n",
    "# 성능 평가: MAE\n",
    "mae_rbf = mean_absolute_error(y_test, prediction_rbf)\n",
    "print(\"Optimal MAE:\", mae_rbf)"
   ]
  },
  {
   "cell_type": "code",
   "execution_count": 16,
   "id": "2d55cdbc",
   "metadata": {},
   "outputs": [
    {
     "name": "stdout",
     "output_type": "stream",
     "text": [
      "7.110074151891473\n",
      "7.013271320685217\n"
     ]
    },
    {
     "data": {
      "image/png": "[encoded data removed]",
      "text/plain": [
       "<Figure size 1000x400 with 2 Axes>"
      ]
     },
     "metadata": {},
     "output_type": "display_data"
    }
   ],
   "source": [
    "# prediction_rbf에 대한 히스토그램\n",
    "plt.figure(figsize=(10, 4))\n",
    "plt.subplot(1, 2, 1)\n",
    "plt.hist(prediction_rbf, bins=100, width=0.1, align='left')\n",
    "plt.xticks(np.arange(0, 11, 1))\n",
    "plt.xticks(rotation=90, fontsize=8)\n",
    "plt.title('Histogram of prediction_rbf')\n",
    "\n",
    "\n",
    "# target 'rating'에 대한 히스토그램\n",
    "plt.subplot(1, 2, 2)\n",
    "plt.hist(data['rating'], bins=100, width=0.1, align='left')\n",
    "plt.xticks(np.arange(0, 11, 1))\n",
    "plt.xticks(rotation=90, fontsize=8)\n",
    "plt.title('Histogram of ratings')\n",
    "\n",
    "print(prediction_rbf.mean())\n",
    "print(data['rating'].mean())"
   ]
  },
  {
   "cell_type": "code",
   "execution_count": 17,
   "id": "204cedbb",
   "metadata": {},
   "outputs": [
    {
     "data": {
      "text/plain": [
       "0.6518292598620277"
      ]
     },
     "execution_count": 17,
     "metadata": {},
     "output_type": "execute_result"
    }
   ],
   "source": [
    "# 히스토그램을 확률 분포로 변환\n",
    "hist1, bin_edges1 = np.histogram(prediction_rbf, bins=30, density=True)\n",
    "hist2, bin_edges2 = np.histogram(data['rating'], bins=30, density=True)\n",
    "\n",
    "# 0 값을 가진 히스토그램 bin을 처리 (KL Divergence는 0 로그 불가능)\n",
    "hist1 = np.where(hist1 == 0, 1e-10, hist1)\n",
    "hist2 = np.where(hist2 == 0, 1e-10, hist2)\n",
    "\n",
    "# 쿨백-라이블러 발산 계산\n",
    "kl_divergence = entropy(hist1, hist2)\n",
    "\n",
    "kl_divergence\n"
   ]
  },
  {
   "cell_type": "code",
   "execution_count": null,
   "id": "6f663379",
   "metadata": {},
   "outputs": [],
   "source": []
  }
 ],
 "metadata": {
  "kernelspec": {
   "display_name": "Python 3 (ipykernel)",
   "language": "python",
   "name": "python3"
  },
  "language_info": {
   "codemirror_mode": {
    "name": "ipython",
    "version": 3
   },
   "file_extension": ".py",
   "mimetype": "text/x-python",
   "name": "python",
   "nbconvert_exporter": "python",
   "pygments_lexer": "ipython3",
   "version": "3.9.18"
  }
 },
 "nbformat": 4,
 "nbformat_minor": 5
}
