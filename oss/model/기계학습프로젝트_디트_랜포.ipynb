{
 "cells": [
  {
   "cell_type": "code",
   "execution_count": 12,
   "id": "f0cfbcbc",
   "metadata": {},
   "outputs": [],
   "source": [
    "import numpy as np\n",
    "import pandas as pd\n",
    "import matplotlib.pyplot as plt\n",
    "from sklearn.model_selection import train_test_split\n",
    "from sklearn.impute import SimpleImputer\n",
    "from sklearn.preprocessing import OneHotEncoder\n",
    "from sklearn.preprocessing import StandardScaler\n",
    "from sklearn.linear_model import SGDRegressor\n",
    "from sklearn.model_selection import RandomizedSearchCV\n",
    "from scipy.stats import uniform\n",
    "from scipy.stats import randint\n",
    "\n",
    "from sklearn.model_selection import cross_val_score\n",
    "\n",
    "from sklearn.metrics import mean_squared_error\n",
    "from sklearn.metrics import mean_absolute_error\n",
    "\n",
    "from sklearn.svm import LinearSVR\n",
    "from sklearn.svm import SVR\n",
    "\n",
    "from sklearn.tree import DecisionTreeRegressor\n",
    "from sklearn.ensemble import RandomForestRegressor\n",
    "from scipy.stats import entropy"
   ]
  },
  {
   "cell_type": "code",
   "execution_count": 2,
   "id": "5d8fcda1",
   "metadata": {},
   "outputs": [],
   "source": [
    "\n",
    "data = pd.read_csv('modified_data7.csv', encoding='cp1252')\n",
    "\n",
    "# 필요없는 피처 날리기\n",
    "data = data.drop(\"subbedOutTime\", axis=1)\n",
    "data = data.drop(\"position\", axis=1)\n",
    "data = data.drop(\"fantasyScore\", axis=1)\n",
    "\n",
    "# 포지션만 있고 세부 포지션 널값처리\n",
    "# 'positionStringShort'의 널값이 있는 행 찾기\n",
    "null_positions = data[data['positionStringShort'].isna()]\n",
    "\n",
    "# 각 널값에 대해 처리\n",
    "for index, row in null_positions.iterrows():\n",
    "    # 현재 널값이 있는 행의 'name' 가져오기\n",
    "    name = row['name']\n",
    "    # 해당 'name'을 가진 모든 행에서 'positionStringShort'의 최빈값 찾기\n",
    "    most_frequent_position = data[data['name'] == name]['positionStringShort'].mode()[0]\n",
    "    # 널값 채우기\n",
    "    data.at[index, 'positionStringShort'] = most_frequent_position\n",
    "\n",
    "data = data.drop(\"name\", axis=1)\n",
    "# rating 널값 제거, 개수가 매우적어 없는거만 제거\n",
    "data = data.dropna(subset=[\"rating\"])\n",
    "\n",
    "# x , y 나누기\n",
    "data_x = data.drop(\"rating\", axis=1)\n",
    "data_y = data[\"rating\"]\n",
    "\n",
    "# 학습, 테스트 데이터 나누기\n",
    "x_train, x_test, y_train, y_test = train_test_split(data_x, data_y, test_size=0.2)\n",
    "\n",
    "# 'positionStringShort'와 'positionRow' 열 선택\n",
    "x_train_cat = x_train[['positionStringShort', 'positionRow']].values\n",
    "# OneHotEncoder 객체 생성\n",
    "cat_encoder = OneHotEncoder()\n",
    "# 원-핫 인코딩 적용\n",
    "x_train_cat_1hot = cat_encoder.fit_transform(x_train_cat)\n",
    "# positionStringShort, positionRow은 카테고리컬\n",
    "x_train_num = x_train.drop([\"positionStringShort\", \"positionRow\"], axis=1)\n",
    "\n",
    "# 불리언 타입이 아닌 수치형 데이터만 선택\n",
    "numeric_features = x_train_num.select_dtypes(include=['int64', 'float64'])\n",
    "# StandardScaler 객체 생성\n",
    "scaler = StandardScaler()\n",
    "# 수치형 데이터에 표준화 적용\n",
    "numeric_features_scaled = scaler.fit_transform(numeric_features)\n",
    "# 스케일링된 데이터를 데이터프레임으로 변환 (원본 데이터프레임의 인덱스 사용)\n",
    "numeric_features_scaled_df = pd.DataFrame(numeric_features_scaled, columns=numeric_features.columns,\n",
    "                                          index=x_train_num.index)\n",
    "# 데이터를 소수점 셋째 자리에서 반올림\n",
    "numeric_features_scaled_df = numeric_features_scaled_df.round(3)\n",
    "# 스케일링된 수치형 데이터프레임을 원본 데이터프레임과 병합\n",
    "data_num_scaled = x_train_num.copy()\n",
    "data_num_scaled[numeric_features.columns] = numeric_features_scaled_df\n",
    "\n",
    "# 원-핫 인코딩된 데이터를 데이터프레임으로 변환\n",
    "x_train_cat_1hot_df = pd.DataFrame(x_train_cat_1hot.toarray(), columns=cat_encoder.get_feature_names_out(),\n",
    "                                   index=x_train.index)\n",
    "\n",
    "# 불리언 타입의 데이터만 선택\n",
    "bool_features = x_train_num.select_dtypes(include=['bool'])\n",
    "\n",
    "\n",
    "# 스케일링된 수치형 데이터, 불리언 타입의 데이터, 원-핫 인코딩된 데이터 병합\n",
    "x_train_prepared = pd.concat([data_num_scaled, bool_features, x_train_cat_1hot_df], axis=1)\n"
   ]
  },
  {
   "cell_type": "code",
   "execution_count": 3,
   "id": "64a2be36",
   "metadata": {},
   "outputs": [],
   "source": [
    "x_test, y_test\n",
    "\n",
    "# x_test, y_test\n",
    "\n",
    "\n",
    "# 'positionStringShort'와 'positionRow' 열 선택\n",
    "x_test_cat = x_test[['positionStringShort', 'positionRow']].values\n",
    "# OneHotEncoder 객체 생성\n",
    "cat_encoder2 = OneHotEncoder()\n",
    "# 원-핫 인코딩 적용\n",
    "x_test_cat_1hot = cat_encoder2.fit_transform(x_test_cat)\n",
    "\n",
    "# positionStringShort, positionRow은 카테고리컬\n",
    "x_test_num = x_test.drop([\"positionStringShort\", \"positionRow\"], axis=1)\n",
    "\n",
    "# 불리언 타입이 아닌 수치형 데이터만 선택\n",
    "numeric_features2 = x_test_num.select_dtypes(include=['int64', 'float64'])\n",
    "# StandardScaler 객체 생성\n",
    "scaler2 = StandardScaler()\n",
    "# 수치형 데이터에 표준화 적용\n",
    "numeric_features_scaled2 = scaler.transform(numeric_features2)\n",
    "# 스케일링된 데이터를 데이터프레임으로 변환 (원본 데이터프레임의 인덱스 사용)\n",
    "numeric_features_scaled_df2 = pd.DataFrame(numeric_features_scaled2, columns=numeric_features2.columns,\n",
    "                                          index=x_test_num.index)\n",
    "# 데이터를 소수점 셋째 자리에서 반올림\n",
    "numeric_features_scaled_df2 = numeric_features_scaled_df2.round(3)\n",
    "# 스케일링된 수치형 데이터프레임을 원본 데이터프레임과 병합\n",
    "data_num_scaled2 = x_test_num.copy()\n",
    "data_num_scaled2[numeric_features2.columns] = numeric_features_scaled_df2\n",
    "\n",
    "# 원-핫 인코딩된 데이터를 데이터프레임으로 변환\n",
    "x_test_cat_1hot_df = pd.DataFrame(x_test_cat_1hot.toarray(), columns=cat_encoder2.get_feature_names_out(),\n",
    "                                   index=x_test.index)\n",
    "\n",
    "# 불리언 타입의 데이터만 선택\n",
    "bool_features2 = x_test_num.select_dtypes(include=['bool'])\n",
    "\n",
    "\n",
    "# 스케일링된 수치형 데이터, 불리언 타입의 데이터, 원-핫 인코딩된 데이터 병합\n",
    "x_test_prepared = pd.concat([data_num_scaled2, bool_features2, x_test_cat_1hot_df], axis=1)\n",
    "# 'positionStringShort'와 'positionRow' 열 선택\n",
    "x_test_cat = x_test[['positionStringShort', 'positionRow']].values\n",
    "# OneHotEncoder 객체 생성\n",
    "cat_encoder2 = OneHotEncoder()\n",
    "# 원-핫 인코딩 적용\n",
    "x_test_cat_1hot = cat_encoder2.fit_transform(x_test_cat)\n",
    "\n",
    "# positionStringShort, positionRow은 카테고리컬\n",
    "x_test_num = x_test.drop([\"positionStringShort\", \"positionRow\"], axis=1)\n",
    "\n",
    "# 불리언 타입이 아닌 수치형 데이터만 선택\n",
    "numeric_features2 = x_test_num.select_dtypes(include=['int64', 'float64'])\n",
    "# StandardScaler 객체 생성\n",
    "scaler2 = StandardScaler()\n",
    "# 수치형 데이터에 표준화 적용\n",
    "numeric_features_scaled2 = scaler.transform(numeric_features2)\n",
    "# 스케일링된 데이터를 데이터프레임으로 변환 (원본 데이터프레임의 인덱스 사용)\n",
    "numeric_features_scaled_df2 = pd.DataFrame(numeric_features_scaled2, columns=numeric_features2.columns,\n",
    "                                          index=x_test_num.index)\n",
    "# 데이터를 소수점 셋째 자리에서 반올림\n",
    "numeric_features_scaled_df2 = numeric_features_scaled_df2.round(3)\n",
    "# 스케일링된 수치형 데이터프레임을 원본 데이터프레임과 병합\n",
    "data_num_scaled2 = x_test_num.copy()\n",
    "data_num_scaled2[numeric_features2.columns] = numeric_features_scaled_df2\n",
    "\n",
    "# 원-핫 인코딩된 데이터를 데이터프레임으로 변환\n",
    "x_test_cat_1hot_df = pd.DataFrame(x_test_cat_1hot.toarray(), columns=cat_encoder2.get_feature_names_out(),\n",
    "                                   index=x_test.index)\n",
    "\n",
    "# 불리언 타입의 데이터만 선택\n",
    "bool_features2 = x_test_num.select_dtypes(include=['bool'])\n",
    "\n",
    "\n",
    "# 스케일링된 수치형 데이터, 불리언 타입의 데이터, 원-핫 인코딩된 데이터 병합\n",
    "x_test_prepared = pd.concat([data_num_scaled2, bool_features2, x_test_cat_1hot_df], axis=1)"
   ]
  },
  {
   "cell_type": "code",
   "execution_count": 4,
   "id": "91c8aa39",
   "metadata": {},
   "outputs": [
    {
     "data": {
      "text/plain": [
       "DecisionTreeRegressor(max_depth=3)"
      ]
     },
     "execution_count": 4,
     "metadata": {},
     "output_type": "execute_result"
    }
   ],
   "source": [
    "tree_reg = DecisionTreeRegressor(max_depth=3)\n",
    "tree_reg.fit(x_train_prepared, y_train)"
   ]
  },
  {
   "cell_type": "code",
   "execution_count": 10,
   "id": "9f7f95b7",
   "metadata": {},
   "outputs": [
    {
     "name": "stdout",
     "output_type": "stream",
     "text": [
      "(2172, 58)\n",
      "RMSE_3: 0.6443460702652377\n",
      "MAE:_3 0.49320539668235136\n",
      "[6.48470191 7.00797861 7.00797861 7.00797861 7.78314607 6.48470191\n",
      " 7.00797861 7.00797861 7.00797861 7.00797861]\n",
      "5299     4.7\n",
      "2073     6.7\n",
      "8210     6.2\n",
      "7092     6.5\n",
      "10504    7.5\n",
      "9003     6.7\n",
      "1434     7.3\n",
      "4535     7.5\n",
      "3031     6.7\n",
      "4154     5.1\n",
      "Name: rating, dtype: float64\n"
     ]
    }
   ],
   "source": [
    "y_pred = tree_reg.predict(x_test_prepared) \n",
    "print(x_test_prepared.shape)\n",
    "\n",
    "\n",
    "\n",
    "mse = mean_squared_error(y_test, y_pred)\n",
    "rmse = np.sqrt(mse)\n",
    "print(\"RMSE_3:\", rmse)\n",
    "# 성능 평가: MAE\n",
    "mae = mean_absolute_error(y_test, y_pred)\n",
    "print(\"MAE:_3\", mae)\n",
    "\n",
    "print(y_pred[0:10])\n",
    "print(y_test[0:10])"
   ]
  },
  {
   "cell_type": "code",
   "execution_count": 11,
   "id": "cf70882f",
   "metadata": {},
   "outputs": [
    {
     "name": "stdout",
     "output_type": "stream",
     "text": [
      "7.0301710378900655\n",
      "7.013271320685217\n"
     ]
    },
    {
     "data": {
      "image/png": "[encoded data removed]",
      "text/plain": [
       "<Figure size 1000x400 with 2 Axes>"
      ]
     },
     "metadata": {},
     "output_type": "display_data"
    }
   ],
   "source": [
    "# y_pred에 대한 히스토그램\n",
    "plt.figure(figsize=(10, 4))\n",
    "plt.subplot(1, 2, 1)\n",
    "plt.hist(y_pred, bins=100, width=0.1, align='left')\n",
    "plt.xticks(np.arange(0, 11, 1))\n",
    "plt.xticks(rotation=90, fontsize=8)\n",
    "plt.title('Histogram of y_pred')\n",
    "\n",
    "\n",
    "# target 'rating'에 대한 히스토그램\n",
    "plt.subplot(1, 2, 2)\n",
    "plt.hist(data['rating'], bins=100, width=0.1, align='left')\n",
    "plt.xticks(np.arange(0, 11, 1))\n",
    "plt.xticks(rotation=90, fontsize=8)\n",
    "plt.title('Histogram of ratings')\n",
    "\n",
    "print(y_pred.mean())\n",
    "print(data['rating'].mean())"
   ]
  },
  {
   "cell_type": "code",
   "execution_count": 6,
   "id": "7f3dfd43",
   "metadata": {},
   "outputs": [
    {
     "data": {
      "text/plain": [
       "RandomForestRegressor(max_leaf_nodes=16, n_estimators=500, n_jobs=-1)"
      ]
     },
     "execution_count": 6,
     "metadata": {},
     "output_type": "execute_result"
    }
   ],
   "source": [
    "rnd_for = RandomForestRegressor(n_estimators=500, max_leaf_nodes=16, n_jobs=-1)\n",
    "rnd_for.fit(x_train_prepared, y_train)"
   ]
  },
  {
   "cell_type": "code",
   "execution_count": 7,
   "id": "48606288",
   "metadata": {},
   "outputs": [
    {
     "name": "stdout",
     "output_type": "stream",
     "text": [
      "RMSE_rnd: 0.5783584966214115\n",
      "MAE:_rnd 0.4310638761702005\n",
      "Predictions: [6.48470191 7.00797861 7.00797861 7.00797861 7.78314607 6.48470191\n",
      " 7.00797861 7.00797861 7.00797861 7.00797861]\n",
      "Actual: [4.7, 6.7, 6.2, 6.5, 7.5, 6.7, 7.3, 7.5, 6.7, 5.1]\n"
     ]
    }
   ],
   "source": [
    "rnd_for_pred = rnd_for.predict(x_test_prepared) \n",
    "\n",
    "\n",
    "\n",
    "mse_rnd = mean_squared_error(y_test, rnd_for_pred)\n",
    "rmse_rnd = np.sqrt(mse_rnd)\n",
    "print(\"RMSE_rnd:\", rmse_rnd)\n",
    "# 성능 평가: MAE\n",
    "mae_rnd = mean_absolute_error(y_test, rnd_for_pred)\n",
    "print(\"MAE:_rnd\", mae_rnd)\n",
    "\n",
    "# 첫 10개의 예측값과 실제값 출력\n",
    "print(\"Predictions:\", y_pred[:10])\n",
    "print(\"Actual:\", y_test.iloc[:10].tolist())"
   ]
  },
  {
   "cell_type": "code",
   "execution_count": 8,
   "id": "8a12a5e8",
   "metadata": {},
   "outputs": [
    {
     "name": "stdout",
     "output_type": "stream",
     "text": [
      "7.030008827112255\n",
      "7.013271320685217\n"
     ]
    },
    {
     "data": {
      "image/png": "[encoded data removed]",
      "text/plain": [
       "<Figure size 1000x400 with 2 Axes>"
      ]
     },
     "metadata": {},
     "output_type": "display_data"
    }
   ],
   "source": [
    "# rnd_for_pred에 대한 히스토그램\n",
    "plt.figure(figsize=(10, 4))\n",
    "plt.subplot(1, 2, 1)\n",
    "plt.hist(rnd_for_pred, bins=100, width=0.1, align='left')\n",
    "plt.xticks(np.arange(0, 11, 1))\n",
    "plt.xticks(rotation=90, fontsize=8)\n",
    "plt.title('Histogram of rnd_for_pred')\n",
    "\n",
    "\n",
    "# target 'rating'에 대한 히스토그램\n",
    "plt.subplot(1, 2, 2)\n",
    "plt.hist(data['rating'], bins=100, width=0.1, align='left')\n",
    "plt.xticks(np.arange(0, 11, 1))\n",
    "plt.xticks(rotation=90, fontsize=8)\n",
    "plt.title('Histogram of ratings')\n",
    "\n",
    "print(rnd_for_pred.mean())\n",
    "print(data['rating'].mean())"
   ]
  },
  {
   "cell_type": "code",
   "execution_count": 13,
   "id": "a08648cf",
   "metadata": {},
   "outputs": [
    {
     "data": {
      "text/plain": [
       "3.090167809343968"
      ]
     },
     "execution_count": 13,
     "metadata": {},
     "output_type": "execute_result"
    }
   ],
   "source": [
    "# 히스토그램을 확률 분포로 변환\n",
    "hist1, bin_edges1 = np.histogram(rnd_for_pred, bins=30, density=True)\n",
    "hist2, bin_edges2 = np.histogram(data['rating'], bins=30, density=True)\n",
    "\n",
    "# 0 값을 가진 히스토그램 bin을 처리 (KL Divergence는 0 로그 불가능)\n",
    "hist1 = np.where(hist1 == 0, 1e-10, hist1)\n",
    "hist2 = np.where(hist2 == 0, 1e-10, hist2)\n",
    "\n",
    "# 쿨백-라이블러 발산 계산\n",
    "kl_divergence = entropy(hist1, hist2)\n",
    "\n",
    "kl_divergence\n"
   ]
  },
  {
   "cell_type": "code",
   "execution_count": 8,
   "id": "262dc159",
   "metadata": {},
   "outputs": [
    {
     "name": "stderr",
     "output_type": "stream",
     "text": [
      "\n",
      "KeyboardInterrupt\n",
      "\n"
     ]
    }
   ],
   "source": [
    "# RandomForestRegressor의 하이퍼파라미터 범위 설정\n",
    "param_dist = {\n",
    "    'n_estimators': randint(100, 1000),  # 트리의 개수\n",
    "    'max_features': ['auto', 'sqrt', 'log2'],  # 최대 특성 개수\n",
    "    'max_depth': randint(5, 50),  # 최대 깊이\n",
    "    'min_samples_split': randint(2, 20),  # 분할을 위한 최소 샘플 수\n",
    "    'min_samples_leaf': randint(1, 20),  # 리프 노드의 최소 샘플 수\n",
    "    'bootstrap': [True, False]  # 부트스트랩 샘플링 사용 여부\n",
    "}\n",
    "\n",
    "# RandomForestRegressor 객체 생성\n",
    "rf = RandomForestRegressor()\n",
    "\n",
    "# RandomizedSearchCV 설정\n",
    "random_search = RandomizedSearchCV(rf, param_distributions=param_dist, n_iter=100, cv=5, \n",
    "                                   scoring='neg_mean_squared_error', random_state=42, n_jobs=-1)\n",
    "\n",
    "# RandomizedSearchCV 실행\n",
    "random_search.fit(x_train_prepared, y_train)\n",
    "\n",
    "# 최적의 파라미터와 점수 출력\n",
    "print(\"Best parameters:\", random_search.best_params_)\n",
    "print(\"Best score (RMSE):\", np.sqrt(-random_search.best_score_))\n",
    "\n",
    "'''\n",
    "코랩 결과\n",
    "Best parameters: {'bootstrap': True, 'max_depth': 47, 'max_features': 'auto', 'min_samples_leaf': 4, 'min_samples_split': 14, 'n_estimators': 259}\n",
    "Best score (RMSE): 0.54351468409041\n",
    "\n",
    "'''"
   ]
  },
  {
   "cell_type": "code",
   "execution_count": null,
   "id": "3839dc01",
   "metadata": {},
   "outputs": [],
   "source": []
  }
 ],
 "metadata": {
  "kernelspec": {
   "display_name": "Python 3 (ipykernel)",
   "language": "python",
   "name": "python3"
  },
  "language_info": {
   "codemirror_mode": {
    "name": "ipython",
    "version": 3
   },
   "file_extension": ".py",
   "mimetype": "text/x-python",
   "name": "python",
   "nbconvert_exporter": "python",
   "pygments_lexer": "ipython3",
   "version": "3.9.18"
  }
 },
 "nbformat": 4,
 "nbformat_minor": 5
}
