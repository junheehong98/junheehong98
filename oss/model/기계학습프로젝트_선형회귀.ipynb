{
 "cells": [
  {
   "cell_type": "code",
   "execution_count": 48,
   "id": "d5770634",
   "metadata": {},
   "outputs": [],
   "source": [
    "import numpy as np\n",
    "import pandas as pd\n",
    "import matplotlib.pyplot as plt\n",
    "from sklearn.model_selection import train_test_split\n",
    "from sklearn.impute import SimpleImputer\n",
    "from sklearn.preprocessing import OneHotEncoder\n",
    "from sklearn.preprocessing import StandardScaler\n",
    "from sklearn.linear_model import SGDRegressor\n",
    "from sklearn.model_selection import RandomizedSearchCV\n",
    "from scipy.stats import uniform\n",
    "from scipy.stats import entropy\n",
    "\n",
    "\n"
   ]
  },
  {
   "cell_type": "code",
   "execution_count": 2,
   "id": "2c303335",
   "metadata": {},
   "outputs": [
    {
     "data": {
      "text/plain": [
       "Index(['isCaptain', 'minutesPlayed', 'isGoalkeeper', 'goal', 'assist',\n",
       "       'yellowCard', 'redCard', 'total_shots', 'accurate_passes_rate(%)',\n",
       "       'chances_created', 'expected_goals(xG)',\n",
       "       'expected_goals_on_target(xGOT)', 'expected_assists(xA)', 'xG+xA',\n",
       "       'shot_accuracy(%)', 'blocked_shots', 'touches',\n",
       "       'touches_in_opposition_box', 'passes_into_final_third',\n",
       "       'long_balls_accuracy(%)', 'dispossessed', 'xG_Non_penalty',\n",
       "       'tackles_won_rate(%)', 'clearances', 'headed_clearance',\n",
       "       'defensive_actions', 'recoveries', 'dribbled_past', 'duels_won',\n",
       "       'duels_lost', 'ground_duels_won_rate(%)', 'aerial_duels_won_rate(%)',\n",
       "       'was_fouled', 'fouls_commited', 'dribble_success_rate(%)',\n",
       "       'penalties_won', 'big_chances_missed', 'crosses_success_rate(%)',\n",
       "       'isCaptain', 'isGoalkeeper', 'x0_AM', 'x0_CB', 'x0_CM', 'x0_DM',\n",
       "       'x0_GK', 'x0_LB', 'x0_LM', 'x0_LW', 'x0_RB', 'x0_RM', 'x0_RW', 'x0_ST',\n",
       "       'x1_0', 'x1_1', 'x1_2', 'x1_3', 'x1_4', 'x1_5'],\n",
       "      dtype='object')"
      ]
     },
     "execution_count": 2,
     "metadata": {},
     "output_type": "execute_result"
    }
   ],
   "source": [
    "\n",
    "data = pd.read_csv('modified_data7.csv', encoding='cp1252')\n",
    "\n",
    "# 필요없는 피처 날리기\n",
    "data = data.drop(\"subbedOutTime\", axis=1)\n",
    "data = data.drop(\"position\", axis=1)\n",
    "data = data.drop(\"fantasyScore\", axis=1)\n",
    "\n",
    "# 포지션만 있고 세부 포지션 널값처리\n",
    "# 'positionStringShort'의 널값이 있는 행 찾기\n",
    "null_positions = data[data['positionStringShort'].isna()]\n",
    "\n",
    "# 각 널값에 대해 처리\n",
    "for index, row in null_positions.iterrows():\n",
    "    # 현재 널값이 있는 행의 'name' 가져오기\n",
    "    name = row['name']\n",
    "    # 해당 'name'을 가진 모든 행에서 'positionStringShort'의 최빈값 찾기\n",
    "    most_frequent_position = data[data['name'] == name]['positionStringShort'].mode()[0]\n",
    "    # 널값 채우기\n",
    "    data.at[index, 'positionStringShort'] = most_frequent_position\n",
    "\n",
    "data = data.drop(\"name\", axis=1)\n",
    "# rating 널값 제거, 개수가 매우적어 없는거만 제거\n",
    "data = data.dropna(subset=[\"rating\"])\n",
    "\n",
    "# x , y 나누기\n",
    "data_x = data.drop(\"rating\", axis=1)\n",
    "data_y = data[\"rating\"]\n",
    "\n",
    "# 학습, 테스트 데이터 나누기\n",
    "x_train, x_test, y_train, y_test = train_test_split(data_x, data_y, test_size=0.2)\n",
    "\n",
    "# 'positionStringShort'와 'positionRow' 열 선택\n",
    "x_train_cat = x_train[['positionStringShort', 'positionRow']].values\n",
    "# OneHotEncoder 객체 생성\n",
    "cat_encoder = OneHotEncoder()\n",
    "# 원-핫 인코딩 적용\n",
    "x_train_cat_1hot = cat_encoder.fit_transform(x_train_cat)\n",
    "# positionStringShort, positionRow은 카테고리컬\n",
    "x_train_num = x_train.drop([\"positionStringShort\", \"positionRow\"], axis=1)\n",
    "\n",
    "# 불리언 타입이 아닌 수치형 데이터만 선택\n",
    "numeric_features = x_train_num.select_dtypes(include=['int64', 'float64'])\n",
    "# StandardScaler 객체 생성\n",
    "scaler = StandardScaler()\n",
    "# 수치형 데이터에 표준화 적용\n",
    "numeric_features_scaled = scaler.fit_transform(numeric_features)\n",
    "# 스케일링된 데이터를 데이터프레임으로 변환 (원본 데이터프레임의 인덱스 사용)\n",
    "numeric_features_scaled_df = pd.DataFrame(numeric_features_scaled, columns=numeric_features.columns,\n",
    "                                          index=x_train_num.index)\n",
    "# 데이터를 소수점 셋째 자리에서 반올림\n",
    "numeric_features_scaled_df = numeric_features_scaled_df.round(3)\n",
    "# 스케일링된 수치형 데이터프레임을 원본 데이터프레임과 병합\n",
    "data_num_scaled = x_train_num.copy()\n",
    "data_num_scaled[numeric_features.columns] = numeric_features_scaled_df\n",
    "\n",
    "# 원-핫 인코딩된 데이터를 데이터프레임으로 변환\n",
    "x_train_cat_1hot_df = pd.DataFrame(x_train_cat_1hot.toarray(), columns=cat_encoder.get_feature_names_out(),\n",
    "                                   index=x_train.index)\n",
    "\n",
    "# 불리언 타입의 데이터만 선택\n",
    "bool_features = x_train_num.select_dtypes(include=['bool'])\n",
    "\n",
    "\n",
    "# 스케일링된 수치형 데이터, 불리언 타입의 데이터, 원-핫 인코딩된 데이터 병합\n",
    "x_train_prepared = pd.concat([data_num_scaled, bool_features, x_train_cat_1hot_df], axis=1)\n",
    "x_train_prepared.columns"
   ]
  },
  {
   "cell_type": "code",
   "execution_count": 3,
   "id": "a99eaa1b",
   "metadata": {},
   "outputs": [],
   "source": [
    "from sklearn.linear_model import LinearRegression\n",
    "from sklearn.model_selection import cross_val_score\n",
    "\n",
    "lin_reg = LinearRegression()\n",
    "scores = cross_val_score(lin_reg, x_train_prepared, y_train, scoring= \"neg_mean_squared_error\", cv=10)\n",
    "rmse_scores = np.sqrt(-scores)"
   ]
  },
  {
   "cell_type": "code",
   "execution_count": 4,
   "id": "703b91e1",
   "metadata": {},
   "outputs": [
    {
     "name": "stdout",
     "output_type": "stream",
     "text": [
      "[0.49878669 0.57314522 0.50444103 0.53483602 0.50997375 0.52826013\n",
      " 0.52625845 0.58874402 0.49746706 0.51975552]\n"
     ]
    }
   ],
   "source": [
    "print(rmse_scores)"
   ]
  },
  {
   "cell_type": "code",
   "execution_count": 5,
   "id": "b539f7ef",
   "metadata": {},
   "outputs": [
    {
     "name": "stdout",
     "output_type": "stream",
     "text": [
      "0.5281667897504352\n"
     ]
    }
   ],
   "source": [
    "print(rmse_scores.mean())"
   ]
  },
  {
   "cell_type": "code",
   "execution_count": 6,
   "id": "6b6cbe28",
   "metadata": {},
   "outputs": [
    {
     "data": {
      "text/plain": [
       "0.5259331658044029"
      ]
     },
     "execution_count": 6,
     "metadata": {},
     "output_type": "execute_result"
    }
   ],
   "source": [
    "from sklearn.metrics import mean_squared_error\n",
    "from sklearn.metrics import mean_absolute_error\n",
    "\n",
    "# cross_val_score가 완료된 후에는 학습된 모델이 저장되지 않습니다\n",
    "\n",
    "lin_reg2 = LinearRegression()\n",
    "lin_reg2.fit(x_train_prepared, y_train)\n",
    "\n",
    "prediction = lin_reg2.predict(x_train_prepared)\n",
    "lin_mse = mean_squared_error(y_train, prediction)\n",
    "lin_rmse = np.sqrt(lin_mse)\n",
    "lin_rmse\n",
    "\n"
   ]
  },
  {
   "cell_type": "code",
   "execution_count": 7,
   "id": "6b5f8708",
   "metadata": {},
   "outputs": [
    {
     "data": {
      "text/plain": [
       "0.3687425096046599"
      ]
     },
     "execution_count": 7,
     "metadata": {},
     "output_type": "execute_result"
    }
   ],
   "source": [
    "# MAE 계산\n",
    "mae = mean_absolute_error(y_train, prediction)\n",
    "mae"
   ]
  },
  {
   "cell_type": "code",
   "execution_count": 8,
   "id": "ab67b4cc",
   "metadata": {},
   "outputs": [],
   "source": [
    "x_test, y_test\n",
    "\n",
    "\n",
    "# 'positionStringShort'와 'positionRow' 열 선택\n",
    "x_test_cat = x_test[['positionStringShort', 'positionRow']].values\n",
    "# OneHotEncoder 객체 생성\n",
    "cat_encoder2 = OneHotEncoder()\n",
    "# 원-핫 인코딩 적용\n",
    "x_test_cat_1hot = cat_encoder2.fit_transform(x_test_cat)\n",
    "\n",
    "# positionStringShort, positionRow은 카테고리컬\n",
    "x_test_num = x_test.drop([\"positionStringShort\", \"positionRow\"], axis=1)\n",
    "\n",
    "# 불리언 타입이 아닌 수치형 데이터만 선택\n",
    "numeric_features2 = x_test_num.select_dtypes(include=['int64', 'float64'])\n",
    "# StandardScaler 객체 생성\n",
    "scaler2 = StandardScaler()\n",
    "# 수치형 데이터에 표준화 적용\n",
    "numeric_features_scaled2 = scaler.transform(numeric_features2)\n",
    "# 스케일링된 데이터를 데이터프레임으로 변환 (원본 데이터프레임의 인덱스 사용)\n",
    "numeric_features_scaled_df2 = pd.DataFrame(numeric_features_scaled2, columns=numeric_features2.columns,\n",
    "                                          index=x_test_num.index)\n",
    "# 데이터를 소수점 셋째 자리에서 반올림\n",
    "numeric_features_scaled_df2 = numeric_features_scaled_df2.round(3)\n",
    "# 스케일링된 수치형 데이터프레임을 원본 데이터프레임과 병합\n",
    "data_num_scaled2 = x_test_num.copy()\n",
    "data_num_scaled2[numeric_features2.columns] = numeric_features_scaled_df2\n",
    "\n",
    "# 원-핫 인코딩된 데이터를 데이터프레임으로 변환\n",
    "x_test_cat_1hot_df = pd.DataFrame(x_test_cat_1hot.toarray(), columns=cat_encoder2.get_feature_names_out(),\n",
    "                                   index=x_test.index)\n",
    "\n",
    "# 불리언 타입의 데이터만 선택\n",
    "bool_features2 = x_test_num.select_dtypes(include=['bool'])\n",
    "\n",
    "\n",
    "# 스케일링된 수치형 데이터, 불리언 타입의 데이터, 원-핫 인코딩된 데이터 병합\n",
    "x_test_prepared = pd.concat([data_num_scaled2, bool_features2, x_test_cat_1hot_df], axis=1)"
   ]
  },
  {
   "cell_type": "code",
   "execution_count": 9,
   "id": "d6079865",
   "metadata": {},
   "outputs": [
    {
     "data": {
      "text/plain": [
       "0.498482523229098"
      ]
     },
     "execution_count": 9,
     "metadata": {},
     "output_type": "execute_result"
    }
   ],
   "source": [
    "prediction2 = lin_reg2.predict(x_test_prepared)\n",
    "lin_mse = mean_squared_error(y_test, prediction2)\n",
    "lin_rmse = np.sqrt(lin_mse)\n",
    "lin_rmse\n",
    "#아니 이렇게 다 작아버리면 어떡하지? 다른 모델도 해보자"
   ]
  },
  {
   "cell_type": "code",
   "execution_count": 45,
   "id": "1b651d3a",
   "metadata": {},
   "outputs": [
    {
     "name": "stdout",
     "output_type": "stream",
     "text": [
      "Mean Absolute Error: 0.35797835939914247\n"
     ]
    }
   ],
   "source": [
    "# 테스트 데이터에 대한 예측을 생성합니다\n",
    "y_pred = lin_reg2.predict(x_test_prepared)\n",
    "\n",
    "# MAE 계산\n",
    "mae = mean_absolute_error(y_test, y_pred)\n",
    "print(\"Mean Absolute Error:\", mae)\n"
   ]
  },
  {
   "cell_type": "code",
   "execution_count": 46,
   "id": "2e7908e8",
   "metadata": {},
   "outputs": [
    {
     "name": "stdout",
     "output_type": "stream",
     "text": [
      "7.0236649082981035\n",
      "7.013271320685217\n"
     ]
    },
    {
     "data": {
      "image/png": "[encoded data removed]",
      "text/plain": [
       "<Figure size 1000x400 with 2 Axes>"
      ]
     },
     "metadata": {},
     "output_type": "display_data"
    }
   ],
   "source": [
    "# y_pred에 대한 히스토그램\n",
    "plt.figure(figsize=(10, 4))\n",
    "plt.subplot(1, 2, 1)\n",
    "plt.hist(y_pred, bins=100, width=0.1, align='left')\n",
    "plt.xticks(np.arange(0, 11, 1))\n",
    "plt.xticks(rotation=90, fontsize=8)\n",
    "plt.title('Histogram of y_pred')\n",
    "\n",
    "\n",
    "# target 'rating'에 대한 히스토그램\n",
    "plt.subplot(1, 2, 2)\n",
    "plt.hist(data['rating'], bins=100, width=0.1, align='left')\n",
    "plt.xticks(np.arange(0, 11, 1))\n",
    "plt.xticks(rotation=90, fontsize=8)\n",
    "plt.title('Histogram of ratings')\n",
    "\n",
    "print(y_pred.mean())\n",
    "print(data['rating'].mean())"
   ]
  },
  {
   "cell_type": "code",
   "execution_count": 49,
   "id": "dcf1aac5",
   "metadata": {},
   "outputs": [
    {
     "data": {
      "text/plain": [
       "3.1558992487549484"
      ]
     },
     "execution_count": 49,
     "metadata": {},
     "output_type": "execute_result"
    }
   ],
   "source": [
    "# 히스토그램을 확률 분포로 변환\n",
    "hist1, bin_edges1 = np.histogram(y_pred, bins=30, density=True)\n",
    "hist2, bin_edges2 = np.histogram(data['rating'], bins=30, density=True)\n",
    "\n",
    "# 0 값을 가진 히스토그램 bin을 처리 (KL Divergence는 0 로그 불가능)\n",
    "hist1 = np.where(hist1 == 0, 1e-10, hist1)\n",
    "hist2 = np.where(hist2 == 0, 1e-10, hist2)\n",
    "\n",
    "# 쿨백-라이블러 발산 계산\n",
    "kl_divergence = entropy(hist1, hist2)\n",
    "\n",
    "kl_divergence\n"
   ]
  },
  {
   "cell_type": "code",
   "execution_count": 11,
   "id": "1f025cf8",
   "metadata": {},
   "outputs": [
    {
     "name": "stdout",
     "output_type": "stream",
     "text": [
      "Index(['isCaptain', 'minutesPlayed', 'isGoalkeeper', 'goal', 'assist',\n",
      "       'yellowCard', 'redCard', 'total_shots', 'accurate_passes_rate(%)',\n",
      "       'chances_created', 'expected_goals(xG)',\n",
      "       'expected_goals_on_target(xGOT)', 'expected_assists(xA)', 'xG+xA',\n",
      "       'shot_accuracy(%)', 'blocked_shots', 'touches',\n",
      "       'touches_in_opposition_box', 'passes_into_final_third',\n",
      "       'long_balls_accuracy(%)', 'dispossessed', 'xG_Non_penalty',\n",
      "       'tackles_won_rate(%)', 'clearances', 'headed_clearance',\n",
      "       'defensive_actions', 'recoveries', 'dribbled_past', 'duels_won',\n",
      "       'duels_lost', 'ground_duels_won_rate(%)', 'aerial_duels_won_rate(%)',\n",
      "       'was_fouled', 'fouls_commited', 'dribble_success_rate(%)',\n",
      "       'penalties_won', 'big_chances_missed', 'crosses_success_rate(%)',\n",
      "       'isCaptain', 'isGoalkeeper', 'x0_AM', 'x0_CB', 'x0_CM', 'x0_DM',\n",
      "       'x0_GK', 'x0_LB', 'x0_LM', 'x0_LW', 'x0_RB', 'x0_RM', 'x0_RW', 'x0_ST',\n",
      "       'x1_0', 'x1_1', 'x1_2', 'x1_3', 'x1_4', 'x1_5'],\n",
      "      dtype='object')\n",
      "(8686, 58)\n"
     ]
    }
   ],
   "source": [
    "print(x_train_prepared.columns)\n",
    "print(x_train_prepared.shape)"
   ]
  },
  {
   "cell_type": "code",
   "execution_count": 12,
   "id": "d5aa205f",
   "metadata": {},
   "outputs": [],
   "source": [
    "eta = 0.1  # 학습률\n",
    "n_iterations = 1000  # 반복 횟수\n",
    "m = len(x_train_prepared)  # 샘플 개수\n",
    "\n",
    "# x_train_prepared와 y_train을 NumPy 배열로 변환\n",
    "X_b = np.c_[np.ones((m, 1)), x_train_prepared.values]  # x0 = 1 추가\n",
    "y = y_train.values.reshape(-1, 1)\n",
    "\n",
    "theta = np.random.randn(X_b.shape[1], 1)  # theta 초기화\n",
    "\n",
    "for iteration in range(n_iterations):\n",
    "    gradients = 2/m * X_b.T.dot(X_b.dot(theta) - y)\n",
    "    theta = theta - eta * gradients"
   ]
  },
  {
   "cell_type": "code",
   "execution_count": 50,
   "id": "da6f85d8",
   "metadata": {},
   "outputs": [
    {
     "name": "stdout",
     "output_type": "stream",
     "text": [
      "Test MSE: 0.24839722482700727\n",
      "Test RMSE: 0.49839464767090674\n"
     ]
    }
   ],
   "source": [
    "# 테스트 데이터 준비 (1을 추가해야 합니다)\n",
    "X_test_b = np.c_[np.ones((len(x_test_prepared), 1)), x_test_prepared.values]\n",
    "\n",
    "# 테스트 데이터에 대한 예측 수행\n",
    "y_pred = X_test_b.dot(theta)\n",
    "\n",
    "test_mse = mean_squared_error(y_test, y_pred)\n",
    "test_rmse = np.sqrt(test_mse)\n",
    "\n",
    "print(\"Test MSE:\", test_mse)\n",
    "print(\"Test RMSE:\", test_rmse)"
   ]
  },
  {
   "cell_type": "code",
   "execution_count": 51,
   "id": "b768bdf4",
   "metadata": {},
   "outputs": [
    {
     "name": "stdout",
     "output_type": "stream",
     "text": [
      "7.025546734212045\n",
      "7.013271320685217\n"
     ]
    },
    {
     "data": {
      "image/png": "[encoded data removed]",
      "text/plain": [
       "<Figure size 1000x400 with 2 Axes>"
      ]
     },
     "metadata": {},
     "output_type": "display_data"
    }
   ],
   "source": [
    "# y_pred에 대한 히스토그램\n",
    "plt.figure(figsize=(10, 4))\n",
    "plt.subplot(1, 2, 1)\n",
    "plt.hist(y_pred, bins=100, width=0.1, align='left')\n",
    "plt.xticks(np.arange(0, 11, 1))\n",
    "plt.xticks(rotation=90, fontsize=8)\n",
    "plt.title('Histogram of y_pred')\n",
    "\n",
    "\n",
    "# target 'rating'에 대한 히스토그램\n",
    "plt.subplot(1, 2, 2)\n",
    "plt.hist(data['rating'], bins=100, width=0.1, align='left')\n",
    "plt.xticks(np.arange(0, 11, 1))\n",
    "plt.xticks(rotation=90, fontsize=8)\n",
    "plt.title('Histogram of ratings')\n",
    "\n",
    "print(y_pred.mean())\n",
    "print(data['rating'].mean())"
   ]
  },
  {
   "cell_type": "code",
   "execution_count": 52,
   "id": "dc44c2e4",
   "metadata": {},
   "outputs": [
    {
     "data": {
      "text/plain": [
       "3.153032082294505"
      ]
     },
     "execution_count": 52,
     "metadata": {},
     "output_type": "execute_result"
    }
   ],
   "source": [
    "# 히스토그램을 확률 분포로 변환\n",
    "hist1, bin_edges1 = np.histogram(y_pred, bins=30, density=True)\n",
    "hist2, bin_edges2 = np.histogram(data['rating'], bins=30, density=True)\n",
    "\n",
    "# 0 값을 가진 히스토그램 bin을 처리 (KL Divergence는 0 로그 불가능)\n",
    "hist1 = np.where(hist1 == 0, 1e-10, hist1)\n",
    "hist2 = np.where(hist2 == 0, 1e-10, hist2)\n",
    "\n",
    "# 쿨백-라이블러 발산 계산\n",
    "kl_divergence = entropy(hist1, hist2)\n",
    "\n",
    "kl_divergence"
   ]
  },
  {
   "cell_type": "code",
   "execution_count": 41,
   "id": "0ef49196",
   "metadata": {
    "scrolled": true
   },
   "outputs": [
    {
     "name": "stdout",
     "output_type": "stream",
     "text": [
      "Root Mean Squared Error: 96763819300.21689\n",
      "Mean Absolute Error: 6675011640.206768\n"
     ]
    }
   ],
   "source": [
    "from sklearn.linear_model import SGDRegressor\n",
    "sgd_reg = SGDRegressor(max_iter=5000, tol=1e-3, penalty=None, eta0=0.1)\n",
    "sgd_reg.fit(x_train_prepared, y_train)\n",
    "\n",
    "# 테스트 데이터에 대한 예측을 생성합니다\n",
    "prediction3 = sgd_reg.predict(x_test_prepared)\n",
    "\n",
    "sgd_mse = mean_squared_error(y_test, prediction3)\n",
    "sgd_rmse = np.sqrt(sgd_mse)\n",
    "print(\"Root Mean Squared Error:\", sgd_rmse)\n",
    "# MAE 계산\n",
    "sgd_mae = mean_absolute_error(y_test, prediction3)\n",
    "print(\"Mean Absolute Error:\", sgd_mae)\n"
   ]
  },
  {
   "cell_type": "code",
   "execution_count": 42,
   "id": "274e130e",
   "metadata": {},
   "outputs": [
    {
     "name": "stdout",
     "output_type": "stream",
     "text": [
      "-5455055087.759092\n",
      "7.013271320685217\n"
     ]
    },
    {
     "data": {
      "image/png": "[encoded data removed]",
      "text/plain": [
       "<Figure size 1000x400 with 2 Axes>"
      ]
     },
     "metadata": {},
     "output_type": "display_data"
    }
   ],
   "source": [
    "# prediction3에 대한 히스토그램\n",
    "plt.figure(figsize=(10, 4))\n",
    "plt.subplot(1, 2, 1)\n",
    "plt.hist(prediction3, bins=100, width=0.1, align='left')\n",
    "plt.xticks(np.arange(0, 11, 1))\n",
    "plt.xticks(rotation=90, fontsize=8)\n",
    "plt.title('Histogram of prediction3')\n",
    "\n",
    "\n",
    "# target 'rating'에 대한 히스토그램\n",
    "plt.subplot(1, 2, 2)\n",
    "plt.hist(data['rating'], bins=100, width=0.1, align='left')\n",
    "plt.xticks(np.arange(0, 11, 1))\n",
    "plt.xticks(rotation=90, fontsize=8)\n",
    "plt.title('Histogram of ratings')\n",
    "\n",
    "print(prediction3.mean())\n",
    "print(data['rating'].mean())"
   ]
  },
  {
   "cell_type": "code",
   "execution_count": 53,
   "id": "1fa29fa8",
   "metadata": {},
   "outputs": [
    {
     "data": {
      "text/plain": [
       "1.39146356477465"
      ]
     },
     "execution_count": 53,
     "metadata": {},
     "output_type": "execute_result"
    }
   ],
   "source": [
    "# 히스토그램을 확률 분포로 변환\n",
    "hist1, bin_edges1 = np.histogram(prediction3, bins=30, density=True)\n",
    "hist2, bin_edges2 = np.histogram(data['rating'], bins=30, density=True)\n",
    "\n",
    "# 0 값을 가진 히스토그램 bin을 처리 (KL Divergence는 0 로그 불가능)\n",
    "hist1 = np.where(hist1 == 0, 1e-10, hist1)\n",
    "hist2 = np.where(hist2 == 0, 1e-10, hist2)\n",
    "\n",
    "# 쿨백-라이블러 발산 계산\n",
    "kl_divergence = entropy(hist1, hist2)\n",
    "\n",
    "kl_divergence"
   ]
  },
  {
   "cell_type": "code",
   "execution_count": 15,
   "id": "25042ff3",
   "metadata": {},
   "outputs": [
    {
     "name": "stdout",
     "output_type": "stream",
     "text": [
      "L1 규제 RMSE: 0.5008315084192078\n",
      "L1 규제 MAE: 0.3620803710881357\n",
      "7.088743319979152\n",
      "6.5\n"
     ]
    }
   ],
   "source": [
    "# L1 규제를 적용한 SGDRegressor 모델 생성\n",
    "sgd_reg_l1 = SGDRegressor(max_iter=1000, tol=1e-3, penalty='l1', eta0=0.01)\n",
    "sgd_reg_l1.fit(x_train_prepared, y_train)\n",
    "\n",
    "# 테스트 데이터에 대한 예측 생성 및 성능 평가\n",
    "prediction_l1 = sgd_reg_l1.predict(x_test_prepared)\n",
    "mse_l1 = mean_squared_error(y_test, prediction_l1)\n",
    "rmse_l1 = np.sqrt(mse_l1)\n",
    "print(\"L1 규제 RMSE:\", rmse_l1)\n",
    "mae_l1 = mean_absolute_error(y_test, prediction_l1)\n",
    "print(\"L1 규제 MAE:\", mae_l1)\n",
    "print(prediction_l1[0])\n",
    "print(y_test.iloc[0])"
   ]
  },
  {
   "cell_type": "code",
   "execution_count": 43,
   "id": "5c81e098",
   "metadata": {},
   "outputs": [
    {
     "name": "stdout",
     "output_type": "stream",
     "text": [
      "7.011903186801068\n",
      "7.013271320685217\n"
     ]
    },
    {
     "data": {
      "image/png": "[encoded data removed]",
      "text/plain": [
       "<Figure size 1000x400 with 2 Axes>"
      ]
     },
     "metadata": {},
     "output_type": "display_data"
    }
   ],
   "source": [
    "# prediction_l1에 대한 히스토그램\n",
    "plt.figure(figsize=(10, 4))\n",
    "plt.subplot(1, 2, 1)\n",
    "plt.hist(prediction_l1, bins=100, width=0.1, align='left')\n",
    "plt.xticks(np.arange(0, 11, 1))\n",
    "plt.xticks(rotation=90, fontsize=8)\n",
    "plt.title('Histogram of prediction_l1')\n",
    "\n",
    "\n",
    "# target 'rating'에 대한 히스토그램\n",
    "plt.subplot(1, 2, 2)\n",
    "plt.hist(data['rating'], bins=100, width=0.1, align='left')\n",
    "plt.xticks(np.arange(0, 11, 1))\n",
    "plt.xticks(rotation=90, fontsize=8)\n",
    "plt.title('Histogram of ratings')\n",
    "\n",
    "print(prediction_l1.mean())\n",
    "print(data['rating'].mean())"
   ]
  },
  {
   "cell_type": "code",
   "execution_count": 54,
   "id": "51f1cb01",
   "metadata": {},
   "outputs": [
    {
     "data": {
      "text/plain": [
       "3.014316966321639"
      ]
     },
     "execution_count": 54,
     "metadata": {},
     "output_type": "execute_result"
    }
   ],
   "source": [
    "# 히스토그램을 확률 분포로 변환\n",
    "hist1, bin_edges1 = np.histogram(prediction_l1, bins=30, density=True)\n",
    "hist2, bin_edges2 = np.histogram(data['rating'], bins=30, density=True)\n",
    "\n",
    "# 0 값을 가진 히스토그램 bin을 처리 (KL Divergence는 0 로그 불가능)\n",
    "hist1 = np.where(hist1 == 0, 1e-10, hist1)\n",
    "hist2 = np.where(hist2 == 0, 1e-10, hist2)\n",
    "\n",
    "# 쿨백-라이블러 발산 계산\n",
    "kl_divergence = entropy(hist1, hist2)\n",
    "\n",
    "kl_divergence"
   ]
  },
  {
   "cell_type": "code",
   "execution_count": 32,
   "id": "83f41232",
   "metadata": {},
   "outputs": [
    {
     "data": {
      "text/plain": [
       "Text(0.5, 1.0, 'Histogram of ratings')"
      ]
     },
     "execution_count": 32,
     "metadata": {},
     "output_type": "execute_result"
    },
    {
     "data": {
      "image/png": "[encoded data removed]",
      "text/plain": [
       "<Figure size 1000x400 with 2 Axes>"
      ]
     },
     "metadata": {},
     "output_type": "display_data"
    }
   ],
   "source": [
    "# sgd_reg_l1에 대한 히스토그램\n",
    "plt.figure(figsize=(10, 4))\n",
    "plt.subplot(1, 2, 1)\n",
    "plt.hist(prediction_l1, bins=100, width=0.1, align='left')\n",
    "plt.xticks(np.arange(0, 11, 1))\n",
    "plt.xticks(rotation=90, fontsize=8)\n",
    "plt.title('Histogram of sgd_reg_l1')\n",
    "\n",
    "\n",
    "# target 'rating'에 대한 히스토그램\n",
    "plt.subplot(1, 2, 2)\n",
    "plt.hist(data['rating'], bins=100, width=0.1, align='left')\n",
    "plt.xticks(np.arange(0, 11, 1))\n",
    "plt.xticks(rotation=90, fontsize=8)\n",
    "plt.title('Histogram of ratings')"
   ]
  },
  {
   "cell_type": "code",
   "execution_count": 16,
   "id": "f96a2479",
   "metadata": {},
   "outputs": [
    {
     "name": "stdout",
     "output_type": "stream",
     "text": [
      "L2 규제 RMSE: 0.5011440045795805\n",
      "L2 규제 MAE: 0.3620803710881357\n",
      "7.108219434534199\n",
      "6.5\n"
     ]
    }
   ],
   "source": [
    "# L2 규제를 적용한 SGDRegressor 모델 생성\n",
    "sgd_reg_l2 = SGDRegressor(max_iter=1000, tol=1e-3, penalty='l2', eta0=0.01)\n",
    "sgd_reg_l2.fit(x_train_prepared, y_train)\n",
    "\n",
    "# 테스트 데이터에 대한 예측 생성 및 성능 평가\n",
    "prediction_l2 = sgd_reg_l2.predict(x_test_prepared)\n",
    "mse_l2 = mean_squared_error(y_test, prediction_l2)\n",
    "rmse_l2 = np.sqrt(mse_l2)\n",
    "print(\"L2 규제 RMSE:\", rmse_l2)\n",
    "mae_l2 = mean_absolute_error(y_test, prediction_l2)\n",
    "print(\"L2 규제 MAE:\", mae_l1)\n",
    "print(prediction_l2[0])\n",
    "print(y_test.iloc[0])"
   ]
  },
  {
   "cell_type": "code",
   "execution_count": 44,
   "id": "73a1932a",
   "metadata": {},
   "outputs": [
    {
     "name": "stdout",
     "output_type": "stream",
     "text": [
      "7.039611645640569\n",
      "7.013271320685217\n"
     ]
    },
    {
     "data": {
      "image/png": "[encoded data removed]",
      "text/plain": [
       "<Figure size 1000x400 with 2 Axes>"
      ]
     },
     "metadata": {},
     "output_type": "display_data"
    }
   ],
   "source": [
    "# prediction_l2에 대한 히스토그램\n",
    "plt.figure(figsize=(10, 4))\n",
    "plt.subplot(1, 2, 1)\n",
    "plt.hist(prediction_l2, bins=100, width=0.1, align='left')\n",
    "plt.xticks(np.arange(0, 11, 1))\n",
    "plt.xticks(rotation=90, fontsize=8)\n",
    "plt.title('Histogram of prediction_l2')\n",
    "\n",
    "\n",
    "# target 'rating'에 대한 히스토그램\n",
    "plt.subplot(1, 2, 2)\n",
    "plt.hist(data['rating'], bins=100, width=0.1, align='left')\n",
    "plt.xticks(np.arange(0, 11, 1))\n",
    "plt.xticks(rotation=90, fontsize=8)\n",
    "plt.title('Histogram of ratings')\n",
    "\n",
    "print(prediction_l2.mean())\n",
    "print(data['rating'].mean())"
   ]
  },
  {
   "cell_type": "code",
   "execution_count": 55,
   "id": "49b6790c",
   "metadata": {},
   "outputs": [
    {
     "data": {
      "text/plain": [
       "3.236126469120111"
      ]
     },
     "execution_count": 55,
     "metadata": {},
     "output_type": "execute_result"
    }
   ],
   "source": [
    "# 히스토그램을 확률 분포로 변환\n",
    "hist1, bin_edges1 = np.histogram(prediction_l2, bins=30, density=True)\n",
    "hist2, bin_edges2 = np.histogram(data['rating'], bins=30, density=True)\n",
    "\n",
    "# 0 값을 가진 히스토그램 bin을 처리 (KL Divergence는 0 로그 불가능)\n",
    "hist1 = np.where(hist1 == 0, 1e-10, hist1)\n",
    "hist2 = np.where(hist2 == 0, 1e-10, hist2)\n",
    "\n",
    "# 쿨백-라이블러 발산 계산\n",
    "kl_divergence = entropy(hist1, hist2)\n",
    "\n",
    "kl_divergence"
   ]
  },
  {
   "cell_type": "code",
   "execution_count": 17,
   "id": "1512d64c",
   "metadata": {},
   "outputs": [
    {
     "name": "stdout",
     "output_type": "stream",
     "text": [
      "elastic 규제 RMSE: 0.5011440045795805\n",
      "elastic 규제 MAE: 0.3620803710881357\n"
     ]
    }
   ],
   "source": [
    "from sklearn.linear_model import ElasticNet\n",
    "elastic_net = ElasticNet(alpha=0.1, l1_ratio=0.5)\n",
    "elastic_net.fit(x_train_prepared, y_train)\n",
    "\n",
    "# 테스트 데이터에 대한 예측 생성 및 성능 평가\n",
    "prediction_ela = sgd_reg_l2.predict(x_test_prepared)\n",
    "mse_ela = mean_squared_error(y_test, prediction_ela)\n",
    "rmse_ela = np.sqrt(mse_ela)\n",
    "print(\"elastic 규제 RMSE:\", rmse_ela)\n",
    "mae_ela = mean_absolute_error(y_test, prediction_ela)\n",
    "print(\"elastic 규제 MAE:\", mae_l1)"
   ]
  },
  {
   "cell_type": "code",
   "execution_count": 18,
   "id": "4e93885e",
   "metadata": {
    "scrolled": true
   },
   "outputs": [
    {
     "ename": "KeyboardInterrupt",
     "evalue": "",
     "output_type": "error",
     "traceback": [
      "\u001b[1;31m---------------------------------------------------------------------------\u001b[0m",
      "\u001b[1;31mKeyboardInterrupt\u001b[0m                         Traceback (most recent call last)",
      "Cell \u001b[1;32mIn[18], line 14\u001b[0m\n\u001b[0;32m     10\u001b[0m rnd_search \u001b[38;5;241m=\u001b[39m RandomizedSearchCV(sgd_reg, param_distributions\u001b[38;5;241m=\u001b[39mparam_distribs,\n\u001b[0;32m     11\u001b[0m                                 n_iter\u001b[38;5;241m=\u001b[39m\u001b[38;5;241m50\u001b[39m, cv\u001b[38;5;241m=\u001b[39m\u001b[38;5;241m5\u001b[39m, scoring\u001b[38;5;241m=\u001b[39m\u001b[38;5;124m'\u001b[39m\u001b[38;5;124mneg_mean_squared_error\u001b[39m\u001b[38;5;124m'\u001b[39m, random_state\u001b[38;5;241m=\u001b[39m\u001b[38;5;241m42\u001b[39m, return_train_score\u001b[38;5;241m=\u001b[39m\u001b[38;5;28;01mTrue\u001b[39;00m)\n\u001b[0;32m     13\u001b[0m \u001b[38;5;66;03m# 랜덤 탐색 실행\u001b[39;00m\n\u001b[1;32m---> 14\u001b[0m \u001b[43mrnd_search\u001b[49m\u001b[38;5;241;43m.\u001b[39;49m\u001b[43mfit\u001b[49m\u001b[43m(\u001b[49m\u001b[43mx_train_prepared\u001b[49m\u001b[43m,\u001b[49m\u001b[43m \u001b[49m\u001b[43my_train\u001b[49m\u001b[43m)\u001b[49m\n\u001b[0;32m     16\u001b[0m \u001b[38;5;66;03m# 결과 평가\u001b[39;00m\n\u001b[0;32m     17\u001b[0m cvres \u001b[38;5;241m=\u001b[39m rnd_search\u001b[38;5;241m.\u001b[39mcv_results_\n",
      "File \u001b[1;32m~\\anaconda3\\lib\\site-packages\\sklearn\\model_selection\\_search.py:891\u001b[0m, in \u001b[0;36mBaseSearchCV.fit\u001b[1;34m(self, X, y, groups, **fit_params)\u001b[0m\n\u001b[0;32m    885\u001b[0m     results \u001b[38;5;241m=\u001b[39m \u001b[38;5;28mself\u001b[39m\u001b[38;5;241m.\u001b[39m_format_results(\n\u001b[0;32m    886\u001b[0m         all_candidate_params, n_splits, all_out, all_more_results\n\u001b[0;32m    887\u001b[0m     )\n\u001b[0;32m    889\u001b[0m     \u001b[38;5;28;01mreturn\u001b[39;00m results\n\u001b[1;32m--> 891\u001b[0m \u001b[38;5;28;43mself\u001b[39;49m\u001b[38;5;241;43m.\u001b[39;49m\u001b[43m_run_search\u001b[49m\u001b[43m(\u001b[49m\u001b[43mevaluate_candidates\u001b[49m\u001b[43m)\u001b[49m\n\u001b[0;32m    893\u001b[0m \u001b[38;5;66;03m# multimetric is determined here because in the case of a callable\u001b[39;00m\n\u001b[0;32m    894\u001b[0m \u001b[38;5;66;03m# self.scoring the return type is only known after calling\u001b[39;00m\n\u001b[0;32m    895\u001b[0m first_test_score \u001b[38;5;241m=\u001b[39m all_out[\u001b[38;5;241m0\u001b[39m][\u001b[38;5;124m\"\u001b[39m\u001b[38;5;124mtest_scores\u001b[39m\u001b[38;5;124m\"\u001b[39m]\n",
      "File \u001b[1;32m~\\anaconda3\\lib\\site-packages\\sklearn\\model_selection\\_search.py:1766\u001b[0m, in \u001b[0;36mRandomizedSearchCV._run_search\u001b[1;34m(self, evaluate_candidates)\u001b[0m\n\u001b[0;32m   1764\u001b[0m \u001b[38;5;28;01mdef\u001b[39;00m \u001b[38;5;21m_run_search\u001b[39m(\u001b[38;5;28mself\u001b[39m, evaluate_candidates):\n\u001b[0;32m   1765\u001b[0m \u001b[38;5;250m    \u001b[39m\u001b[38;5;124;03m\"\"\"Search n_iter candidates from param_distributions\"\"\"\u001b[39;00m\n\u001b[1;32m-> 1766\u001b[0m     \u001b[43mevaluate_candidates\u001b[49m\u001b[43m(\u001b[49m\n\u001b[0;32m   1767\u001b[0m \u001b[43m        \u001b[49m\u001b[43mParameterSampler\u001b[49m\u001b[43m(\u001b[49m\n\u001b[0;32m   1768\u001b[0m \u001b[43m            \u001b[49m\u001b[38;5;28;43mself\u001b[39;49m\u001b[38;5;241;43m.\u001b[39;49m\u001b[43mparam_distributions\u001b[49m\u001b[43m,\u001b[49m\u001b[43m \u001b[49m\u001b[38;5;28;43mself\u001b[39;49m\u001b[38;5;241;43m.\u001b[39;49m\u001b[43mn_iter\u001b[49m\u001b[43m,\u001b[49m\u001b[43m \u001b[49m\u001b[43mrandom_state\u001b[49m\u001b[38;5;241;43m=\u001b[39;49m\u001b[38;5;28;43mself\u001b[39;49m\u001b[38;5;241;43m.\u001b[39;49m\u001b[43mrandom_state\u001b[49m\n\u001b[0;32m   1769\u001b[0m \u001b[43m        \u001b[49m\u001b[43m)\u001b[49m\n\u001b[0;32m   1770\u001b[0m \u001b[43m    \u001b[49m\u001b[43m)\u001b[49m\n",
      "File \u001b[1;32m~\\anaconda3\\lib\\site-packages\\sklearn\\model_selection\\_search.py:838\u001b[0m, in \u001b[0;36mBaseSearchCV.fit.<locals>.evaluate_candidates\u001b[1;34m(candidate_params, cv, more_results)\u001b[0m\n\u001b[0;32m    830\u001b[0m \u001b[38;5;28;01mif\u001b[39;00m \u001b[38;5;28mself\u001b[39m\u001b[38;5;241m.\u001b[39mverbose \u001b[38;5;241m>\u001b[39m \u001b[38;5;241m0\u001b[39m:\n\u001b[0;32m    831\u001b[0m     \u001b[38;5;28mprint\u001b[39m(\n\u001b[0;32m    832\u001b[0m         \u001b[38;5;124m\"\u001b[39m\u001b[38;5;124mFitting \u001b[39m\u001b[38;5;132;01m{0}\u001b[39;00m\u001b[38;5;124m folds for each of \u001b[39m\u001b[38;5;132;01m{1}\u001b[39;00m\u001b[38;5;124m candidates,\u001b[39m\u001b[38;5;124m\"\u001b[39m\n\u001b[0;32m    833\u001b[0m         \u001b[38;5;124m\"\u001b[39m\u001b[38;5;124m totalling \u001b[39m\u001b[38;5;132;01m{2}\u001b[39;00m\u001b[38;5;124m fits\u001b[39m\u001b[38;5;124m\"\u001b[39m\u001b[38;5;241m.\u001b[39mformat(\n\u001b[0;32m    834\u001b[0m             n_splits, n_candidates, n_candidates \u001b[38;5;241m*\u001b[39m n_splits\n\u001b[0;32m    835\u001b[0m         )\n\u001b[0;32m    836\u001b[0m     )\n\u001b[1;32m--> 838\u001b[0m out \u001b[38;5;241m=\u001b[39m \u001b[43mparallel\u001b[49m\u001b[43m(\u001b[49m\n\u001b[0;32m    839\u001b[0m \u001b[43m    \u001b[49m\u001b[43mdelayed\u001b[49m\u001b[43m(\u001b[49m\u001b[43m_fit_and_score\u001b[49m\u001b[43m)\u001b[49m\u001b[43m(\u001b[49m\n\u001b[0;32m    840\u001b[0m \u001b[43m        \u001b[49m\u001b[43mclone\u001b[49m\u001b[43m(\u001b[49m\u001b[43mbase_estimator\u001b[49m\u001b[43m)\u001b[49m\u001b[43m,\u001b[49m\n\u001b[0;32m    841\u001b[0m \u001b[43m        \u001b[49m\u001b[43mX\u001b[49m\u001b[43m,\u001b[49m\n\u001b[0;32m    842\u001b[0m \u001b[43m        \u001b[49m\u001b[43my\u001b[49m\u001b[43m,\u001b[49m\n\u001b[0;32m    843\u001b[0m \u001b[43m        \u001b[49m\u001b[43mtrain\u001b[49m\u001b[38;5;241;43m=\u001b[39;49m\u001b[43mtrain\u001b[49m\u001b[43m,\u001b[49m\n\u001b[0;32m    844\u001b[0m \u001b[43m        \u001b[49m\u001b[43mtest\u001b[49m\u001b[38;5;241;43m=\u001b[39;49m\u001b[43mtest\u001b[49m\u001b[43m,\u001b[49m\n\u001b[0;32m    845\u001b[0m \u001b[43m        \u001b[49m\u001b[43mparameters\u001b[49m\u001b[38;5;241;43m=\u001b[39;49m\u001b[43mparameters\u001b[49m\u001b[43m,\u001b[49m\n\u001b[0;32m    846\u001b[0m \u001b[43m        \u001b[49m\u001b[43msplit_progress\u001b[49m\u001b[38;5;241;43m=\u001b[39;49m\u001b[43m(\u001b[49m\u001b[43msplit_idx\u001b[49m\u001b[43m,\u001b[49m\u001b[43m \u001b[49m\u001b[43mn_splits\u001b[49m\u001b[43m)\u001b[49m\u001b[43m,\u001b[49m\n\u001b[0;32m    847\u001b[0m \u001b[43m        \u001b[49m\u001b[43mcandidate_progress\u001b[49m\u001b[38;5;241;43m=\u001b[39;49m\u001b[43m(\u001b[49m\u001b[43mcand_idx\u001b[49m\u001b[43m,\u001b[49m\u001b[43m \u001b[49m\u001b[43mn_candidates\u001b[49m\u001b[43m)\u001b[49m\u001b[43m,\u001b[49m\n\u001b[0;32m    848\u001b[0m \u001b[43m        \u001b[49m\u001b[38;5;241;43m*\u001b[39;49m\u001b[38;5;241;43m*\u001b[39;49m\u001b[43mfit_and_score_kwargs\u001b[49m\u001b[43m,\u001b[49m\n\u001b[0;32m    849\u001b[0m \u001b[43m    \u001b[49m\u001b[43m)\u001b[49m\n\u001b[0;32m    850\u001b[0m \u001b[43m    \u001b[49m\u001b[38;5;28;43;01mfor\u001b[39;49;00m\u001b[43m \u001b[49m\u001b[43m(\u001b[49m\u001b[43mcand_idx\u001b[49m\u001b[43m,\u001b[49m\u001b[43m \u001b[49m\u001b[43mparameters\u001b[49m\u001b[43m)\u001b[49m\u001b[43m,\u001b[49m\u001b[43m \u001b[49m\u001b[43m(\u001b[49m\u001b[43msplit_idx\u001b[49m\u001b[43m,\u001b[49m\u001b[43m \u001b[49m\u001b[43m(\u001b[49m\u001b[43mtrain\u001b[49m\u001b[43m,\u001b[49m\u001b[43m \u001b[49m\u001b[43mtest\u001b[49m\u001b[43m)\u001b[49m\u001b[43m)\u001b[49m\u001b[43m \u001b[49m\u001b[38;5;129;43;01min\u001b[39;49;00m\u001b[43m \u001b[49m\u001b[43mproduct\u001b[49m\u001b[43m(\u001b[49m\n\u001b[0;32m    851\u001b[0m \u001b[43m        \u001b[49m\u001b[38;5;28;43menumerate\u001b[39;49m\u001b[43m(\u001b[49m\u001b[43mcandidate_params\u001b[49m\u001b[43m)\u001b[49m\u001b[43m,\u001b[49m\u001b[43m \u001b[49m\u001b[38;5;28;43menumerate\u001b[39;49m\u001b[43m(\u001b[49m\u001b[43mcv\u001b[49m\u001b[38;5;241;43m.\u001b[39;49m\u001b[43msplit\u001b[49m\u001b[43m(\u001b[49m\u001b[43mX\u001b[49m\u001b[43m,\u001b[49m\u001b[43m \u001b[49m\u001b[43my\u001b[49m\u001b[43m,\u001b[49m\u001b[43m \u001b[49m\u001b[43mgroups\u001b[49m\u001b[43m)\u001b[49m\u001b[43m)\u001b[49m\n\u001b[0;32m    852\u001b[0m \u001b[43m    \u001b[49m\u001b[43m)\u001b[49m\n\u001b[0;32m    853\u001b[0m \u001b[43m\u001b[49m\u001b[43m)\u001b[49m\n\u001b[0;32m    855\u001b[0m \u001b[38;5;28;01mif\u001b[39;00m \u001b[38;5;28mlen\u001b[39m(out) \u001b[38;5;241m<\u001b[39m \u001b[38;5;241m1\u001b[39m:\n\u001b[0;32m    856\u001b[0m     \u001b[38;5;28;01mraise\u001b[39;00m \u001b[38;5;167;01mValueError\u001b[39;00m(\n\u001b[0;32m    857\u001b[0m         \u001b[38;5;124m\"\u001b[39m\u001b[38;5;124mNo fits were performed. \u001b[39m\u001b[38;5;124m\"\u001b[39m\n\u001b[0;32m    858\u001b[0m         \u001b[38;5;124m\"\u001b[39m\u001b[38;5;124mWas the CV iterator empty? \u001b[39m\u001b[38;5;124m\"\u001b[39m\n\u001b[0;32m    859\u001b[0m         \u001b[38;5;124m\"\u001b[39m\u001b[38;5;124mWere there no candidates?\u001b[39m\u001b[38;5;124m\"\u001b[39m\n\u001b[0;32m    860\u001b[0m     )\n",
      "File \u001b[1;32m~\\anaconda3\\lib\\site-packages\\joblib\\parallel.py:1088\u001b[0m, in \u001b[0;36mParallel.__call__\u001b[1;34m(self, iterable)\u001b[0m\n\u001b[0;32m   1085\u001b[0m \u001b[38;5;28;01mif\u001b[39;00m \u001b[38;5;28mself\u001b[39m\u001b[38;5;241m.\u001b[39mdispatch_one_batch(iterator):\n\u001b[0;32m   1086\u001b[0m     \u001b[38;5;28mself\u001b[39m\u001b[38;5;241m.\u001b[39m_iterating \u001b[38;5;241m=\u001b[39m \u001b[38;5;28mself\u001b[39m\u001b[38;5;241m.\u001b[39m_original_iterator \u001b[38;5;129;01mis\u001b[39;00m \u001b[38;5;129;01mnot\u001b[39;00m \u001b[38;5;28;01mNone\u001b[39;00m\n\u001b[1;32m-> 1088\u001b[0m \u001b[38;5;28;01mwhile\u001b[39;00m \u001b[38;5;28;43mself\u001b[39;49m\u001b[38;5;241;43m.\u001b[39;49m\u001b[43mdispatch_one_batch\u001b[49m\u001b[43m(\u001b[49m\u001b[43miterator\u001b[49m\u001b[43m)\u001b[49m:\n\u001b[0;32m   1089\u001b[0m     \u001b[38;5;28;01mpass\u001b[39;00m\n\u001b[0;32m   1091\u001b[0m \u001b[38;5;28;01mif\u001b[39;00m pre_dispatch \u001b[38;5;241m==\u001b[39m \u001b[38;5;124m\"\u001b[39m\u001b[38;5;124mall\u001b[39m\u001b[38;5;124m\"\u001b[39m \u001b[38;5;129;01mor\u001b[39;00m n_jobs \u001b[38;5;241m==\u001b[39m \u001b[38;5;241m1\u001b[39m:\n\u001b[0;32m   1092\u001b[0m     \u001b[38;5;66;03m# The iterable was consumed all at once by the above for loop.\u001b[39;00m\n\u001b[0;32m   1093\u001b[0m     \u001b[38;5;66;03m# No need to wait for async callbacks to trigger to\u001b[39;00m\n\u001b[0;32m   1094\u001b[0m     \u001b[38;5;66;03m# consumption.\u001b[39;00m\n",
      "File \u001b[1;32m~\\anaconda3\\lib\\site-packages\\joblib\\parallel.py:901\u001b[0m, in \u001b[0;36mParallel.dispatch_one_batch\u001b[1;34m(self, iterator)\u001b[0m\n\u001b[0;32m    899\u001b[0m     \u001b[38;5;28;01mreturn\u001b[39;00m \u001b[38;5;28;01mFalse\u001b[39;00m\n\u001b[0;32m    900\u001b[0m \u001b[38;5;28;01melse\u001b[39;00m:\n\u001b[1;32m--> 901\u001b[0m     \u001b[38;5;28;43mself\u001b[39;49m\u001b[38;5;241;43m.\u001b[39;49m\u001b[43m_dispatch\u001b[49m\u001b[43m(\u001b[49m\u001b[43mtasks\u001b[49m\u001b[43m)\u001b[49m\n\u001b[0;32m    902\u001b[0m     \u001b[38;5;28;01mreturn\u001b[39;00m \u001b[38;5;28;01mTrue\u001b[39;00m\n",
      "File \u001b[1;32m~\\anaconda3\\lib\\site-packages\\joblib\\parallel.py:819\u001b[0m, in \u001b[0;36mParallel._dispatch\u001b[1;34m(self, batch)\u001b[0m\n\u001b[0;32m    817\u001b[0m \u001b[38;5;28;01mwith\u001b[39;00m \u001b[38;5;28mself\u001b[39m\u001b[38;5;241m.\u001b[39m_lock:\n\u001b[0;32m    818\u001b[0m     job_idx \u001b[38;5;241m=\u001b[39m \u001b[38;5;28mlen\u001b[39m(\u001b[38;5;28mself\u001b[39m\u001b[38;5;241m.\u001b[39m_jobs)\n\u001b[1;32m--> 819\u001b[0m     job \u001b[38;5;241m=\u001b[39m \u001b[38;5;28;43mself\u001b[39;49m\u001b[38;5;241;43m.\u001b[39;49m\u001b[43m_backend\u001b[49m\u001b[38;5;241;43m.\u001b[39;49m\u001b[43mapply_async\u001b[49m\u001b[43m(\u001b[49m\u001b[43mbatch\u001b[49m\u001b[43m,\u001b[49m\u001b[43m \u001b[49m\u001b[43mcallback\u001b[49m\u001b[38;5;241;43m=\u001b[39;49m\u001b[43mcb\u001b[49m\u001b[43m)\u001b[49m\n\u001b[0;32m    820\u001b[0m     \u001b[38;5;66;03m# A job can complete so quickly than its callback is\u001b[39;00m\n\u001b[0;32m    821\u001b[0m     \u001b[38;5;66;03m# called before we get here, causing self._jobs to\u001b[39;00m\n\u001b[0;32m    822\u001b[0m     \u001b[38;5;66;03m# grow. To ensure correct results ordering, .insert is\u001b[39;00m\n\u001b[0;32m    823\u001b[0m     \u001b[38;5;66;03m# used (rather than .append) in the following line\u001b[39;00m\n\u001b[0;32m    824\u001b[0m     \u001b[38;5;28mself\u001b[39m\u001b[38;5;241m.\u001b[39m_jobs\u001b[38;5;241m.\u001b[39minsert(job_idx, job)\n",
      "File \u001b[1;32m~\\anaconda3\\lib\\site-packages\\joblib\\_parallel_backends.py:208\u001b[0m, in \u001b[0;36mSequentialBackend.apply_async\u001b[1;34m(self, func, callback)\u001b[0m\n\u001b[0;32m    206\u001b[0m \u001b[38;5;28;01mdef\u001b[39;00m \u001b[38;5;21mapply_async\u001b[39m(\u001b[38;5;28mself\u001b[39m, func, callback\u001b[38;5;241m=\u001b[39m\u001b[38;5;28;01mNone\u001b[39;00m):\n\u001b[0;32m    207\u001b[0m \u001b[38;5;250m    \u001b[39m\u001b[38;5;124;03m\"\"\"Schedule a func to be run\"\"\"\u001b[39;00m\n\u001b[1;32m--> 208\u001b[0m     result \u001b[38;5;241m=\u001b[39m \u001b[43mImmediateResult\u001b[49m\u001b[43m(\u001b[49m\u001b[43mfunc\u001b[49m\u001b[43m)\u001b[49m\n\u001b[0;32m    209\u001b[0m     \u001b[38;5;28;01mif\u001b[39;00m callback:\n\u001b[0;32m    210\u001b[0m         callback(result)\n",
      "File \u001b[1;32m~\\anaconda3\\lib\\site-packages\\joblib\\_parallel_backends.py:597\u001b[0m, in \u001b[0;36mImmediateResult.__init__\u001b[1;34m(self, batch)\u001b[0m\n\u001b[0;32m    594\u001b[0m \u001b[38;5;28;01mdef\u001b[39;00m \u001b[38;5;21m__init__\u001b[39m(\u001b[38;5;28mself\u001b[39m, batch):\n\u001b[0;32m    595\u001b[0m     \u001b[38;5;66;03m# Don't delay the application, to avoid keeping the input\u001b[39;00m\n\u001b[0;32m    596\u001b[0m     \u001b[38;5;66;03m# arguments in memory\u001b[39;00m\n\u001b[1;32m--> 597\u001b[0m     \u001b[38;5;28mself\u001b[39m\u001b[38;5;241m.\u001b[39mresults \u001b[38;5;241m=\u001b[39m \u001b[43mbatch\u001b[49m\u001b[43m(\u001b[49m\u001b[43m)\u001b[49m\n",
      "File \u001b[1;32m~\\anaconda3\\lib\\site-packages\\joblib\\parallel.py:288\u001b[0m, in \u001b[0;36mBatchedCalls.__call__\u001b[1;34m(self)\u001b[0m\n\u001b[0;32m    284\u001b[0m \u001b[38;5;28;01mdef\u001b[39;00m \u001b[38;5;21m__call__\u001b[39m(\u001b[38;5;28mself\u001b[39m):\n\u001b[0;32m    285\u001b[0m     \u001b[38;5;66;03m# Set the default nested backend to self._backend but do not set the\u001b[39;00m\n\u001b[0;32m    286\u001b[0m     \u001b[38;5;66;03m# change the default number of processes to -1\u001b[39;00m\n\u001b[0;32m    287\u001b[0m     \u001b[38;5;28;01mwith\u001b[39;00m parallel_backend(\u001b[38;5;28mself\u001b[39m\u001b[38;5;241m.\u001b[39m_backend, n_jobs\u001b[38;5;241m=\u001b[39m\u001b[38;5;28mself\u001b[39m\u001b[38;5;241m.\u001b[39m_n_jobs):\n\u001b[1;32m--> 288\u001b[0m         \u001b[38;5;28;01mreturn\u001b[39;00m [func(\u001b[38;5;241m*\u001b[39margs, \u001b[38;5;241m*\u001b[39m\u001b[38;5;241m*\u001b[39mkwargs)\n\u001b[0;32m    289\u001b[0m                 \u001b[38;5;28;01mfor\u001b[39;00m func, args, kwargs \u001b[38;5;129;01min\u001b[39;00m \u001b[38;5;28mself\u001b[39m\u001b[38;5;241m.\u001b[39mitems]\n",
      "File \u001b[1;32m~\\anaconda3\\lib\\site-packages\\joblib\\parallel.py:288\u001b[0m, in \u001b[0;36m<listcomp>\u001b[1;34m(.0)\u001b[0m\n\u001b[0;32m    284\u001b[0m \u001b[38;5;28;01mdef\u001b[39;00m \u001b[38;5;21m__call__\u001b[39m(\u001b[38;5;28mself\u001b[39m):\n\u001b[0;32m    285\u001b[0m     \u001b[38;5;66;03m# Set the default nested backend to self._backend but do not set the\u001b[39;00m\n\u001b[0;32m    286\u001b[0m     \u001b[38;5;66;03m# change the default number of processes to -1\u001b[39;00m\n\u001b[0;32m    287\u001b[0m     \u001b[38;5;28;01mwith\u001b[39;00m parallel_backend(\u001b[38;5;28mself\u001b[39m\u001b[38;5;241m.\u001b[39m_backend, n_jobs\u001b[38;5;241m=\u001b[39m\u001b[38;5;28mself\u001b[39m\u001b[38;5;241m.\u001b[39m_n_jobs):\n\u001b[1;32m--> 288\u001b[0m         \u001b[38;5;28;01mreturn\u001b[39;00m [func(\u001b[38;5;241m*\u001b[39margs, \u001b[38;5;241m*\u001b[39m\u001b[38;5;241m*\u001b[39mkwargs)\n\u001b[0;32m    289\u001b[0m                 \u001b[38;5;28;01mfor\u001b[39;00m func, args, kwargs \u001b[38;5;129;01min\u001b[39;00m \u001b[38;5;28mself\u001b[39m\u001b[38;5;241m.\u001b[39mitems]\n",
      "File \u001b[1;32m~\\anaconda3\\lib\\site-packages\\sklearn\\utils\\fixes.py:216\u001b[0m, in \u001b[0;36m_FuncWrapper.__call__\u001b[1;34m(self, *args, **kwargs)\u001b[0m\n\u001b[0;32m    214\u001b[0m \u001b[38;5;28;01mdef\u001b[39;00m \u001b[38;5;21m__call__\u001b[39m(\u001b[38;5;28mself\u001b[39m, \u001b[38;5;241m*\u001b[39margs, \u001b[38;5;241m*\u001b[39m\u001b[38;5;241m*\u001b[39mkwargs):\n\u001b[0;32m    215\u001b[0m     \u001b[38;5;28;01mwith\u001b[39;00m config_context(\u001b[38;5;241m*\u001b[39m\u001b[38;5;241m*\u001b[39m\u001b[38;5;28mself\u001b[39m\u001b[38;5;241m.\u001b[39mconfig):\n\u001b[1;32m--> 216\u001b[0m         \u001b[38;5;28;01mreturn\u001b[39;00m \u001b[38;5;28mself\u001b[39m\u001b[38;5;241m.\u001b[39mfunction(\u001b[38;5;241m*\u001b[39margs, \u001b[38;5;241m*\u001b[39m\u001b[38;5;241m*\u001b[39mkwargs)\n",
      "File \u001b[1;32m~\\anaconda3\\lib\\site-packages\\sklearn\\model_selection\\_validation.py:680\u001b[0m, in \u001b[0;36m_fit_and_score\u001b[1;34m(estimator, X, y, scorer, train, test, verbose, parameters, fit_params, return_train_score, return_parameters, return_n_test_samples, return_times, return_estimator, split_progress, candidate_progress, error_score)\u001b[0m\n\u001b[0;32m    678\u001b[0m         estimator\u001b[38;5;241m.\u001b[39mfit(X_train, \u001b[38;5;241m*\u001b[39m\u001b[38;5;241m*\u001b[39mfit_params)\n\u001b[0;32m    679\u001b[0m     \u001b[38;5;28;01melse\u001b[39;00m:\n\u001b[1;32m--> 680\u001b[0m         estimator\u001b[38;5;241m.\u001b[39mfit(X_train, y_train, \u001b[38;5;241m*\u001b[39m\u001b[38;5;241m*\u001b[39mfit_params)\n\u001b[0;32m    682\u001b[0m \u001b[38;5;28;01mexcept\u001b[39;00m \u001b[38;5;167;01mException\u001b[39;00m:\n\u001b[0;32m    683\u001b[0m     \u001b[38;5;66;03m# Note fit time as time until error\u001b[39;00m\n\u001b[0;32m    684\u001b[0m     fit_time \u001b[38;5;241m=\u001b[39m time\u001b[38;5;241m.\u001b[39mtime() \u001b[38;5;241m-\u001b[39m start_time\n",
      "File \u001b[1;32m~\\anaconda3\\lib\\site-packages\\sklearn\\linear_model\\_stochastic_gradient.py:1537\u001b[0m, in \u001b[0;36mBaseSGDRegressor.fit\u001b[1;34m(self, X, y, coef_init, intercept_init, sample_weight)\u001b[0m\n\u001b[0;32m   1512\u001b[0m \u001b[38;5;28;01mdef\u001b[39;00m \u001b[38;5;21mfit\u001b[39m(\u001b[38;5;28mself\u001b[39m, X, y, coef_init\u001b[38;5;241m=\u001b[39m\u001b[38;5;28;01mNone\u001b[39;00m, intercept_init\u001b[38;5;241m=\u001b[39m\u001b[38;5;28;01mNone\u001b[39;00m, sample_weight\u001b[38;5;241m=\u001b[39m\u001b[38;5;28;01mNone\u001b[39;00m):\n\u001b[0;32m   1513\u001b[0m \u001b[38;5;250m    \u001b[39m\u001b[38;5;124;03m\"\"\"Fit linear model with Stochastic Gradient Descent.\u001b[39;00m\n\u001b[0;32m   1514\u001b[0m \n\u001b[0;32m   1515\u001b[0m \u001b[38;5;124;03m    Parameters\u001b[39;00m\n\u001b[1;32m   (...)\u001b[0m\n\u001b[0;32m   1535\u001b[0m \u001b[38;5;124;03m        Fitted `SGDRegressor` estimator.\u001b[39;00m\n\u001b[0;32m   1536\u001b[0m \u001b[38;5;124;03m    \"\"\"\u001b[39;00m\n\u001b[1;32m-> 1537\u001b[0m     \u001b[38;5;28;01mreturn\u001b[39;00m \u001b[38;5;28;43mself\u001b[39;49m\u001b[38;5;241;43m.\u001b[39;49m\u001b[43m_fit\u001b[49m\u001b[43m(\u001b[49m\n\u001b[0;32m   1538\u001b[0m \u001b[43m        \u001b[49m\u001b[43mX\u001b[49m\u001b[43m,\u001b[49m\n\u001b[0;32m   1539\u001b[0m \u001b[43m        \u001b[49m\u001b[43my\u001b[49m\u001b[43m,\u001b[49m\n\u001b[0;32m   1540\u001b[0m \u001b[43m        \u001b[49m\u001b[43malpha\u001b[49m\u001b[38;5;241;43m=\u001b[39;49m\u001b[38;5;28;43mself\u001b[39;49m\u001b[38;5;241;43m.\u001b[39;49m\u001b[43malpha\u001b[49m\u001b[43m,\u001b[49m\n\u001b[0;32m   1541\u001b[0m \u001b[43m        \u001b[49m\u001b[43mC\u001b[49m\u001b[38;5;241;43m=\u001b[39;49m\u001b[38;5;241;43m1.0\u001b[39;49m\u001b[43m,\u001b[49m\n\u001b[0;32m   1542\u001b[0m \u001b[43m        \u001b[49m\u001b[43mloss\u001b[49m\u001b[38;5;241;43m=\u001b[39;49m\u001b[38;5;28;43mself\u001b[39;49m\u001b[38;5;241;43m.\u001b[39;49m\u001b[43mloss\u001b[49m\u001b[43m,\u001b[49m\n\u001b[0;32m   1543\u001b[0m \u001b[43m        \u001b[49m\u001b[43mlearning_rate\u001b[49m\u001b[38;5;241;43m=\u001b[39;49m\u001b[38;5;28;43mself\u001b[39;49m\u001b[38;5;241;43m.\u001b[39;49m\u001b[43mlearning_rate\u001b[49m\u001b[43m,\u001b[49m\n\u001b[0;32m   1544\u001b[0m \u001b[43m        \u001b[49m\u001b[43mcoef_init\u001b[49m\u001b[38;5;241;43m=\u001b[39;49m\u001b[43mcoef_init\u001b[49m\u001b[43m,\u001b[49m\n\u001b[0;32m   1545\u001b[0m \u001b[43m        \u001b[49m\u001b[43mintercept_init\u001b[49m\u001b[38;5;241;43m=\u001b[39;49m\u001b[43mintercept_init\u001b[49m\u001b[43m,\u001b[49m\n\u001b[0;32m   1546\u001b[0m \u001b[43m        \u001b[49m\u001b[43msample_weight\u001b[49m\u001b[38;5;241;43m=\u001b[39;49m\u001b[43msample_weight\u001b[49m\u001b[43m,\u001b[49m\n\u001b[0;32m   1547\u001b[0m \u001b[43m    \u001b[49m\u001b[43m)\u001b[49m\n",
      "File \u001b[1;32m~\\anaconda3\\lib\\site-packages\\sklearn\\linear_model\\_stochastic_gradient.py:1485\u001b[0m, in \u001b[0;36mBaseSGDRegressor._fit\u001b[1;34m(self, X, y, alpha, C, loss, learning_rate, coef_init, intercept_init, sample_weight)\u001b[0m\n\u001b[0;32m   1482\u001b[0m \u001b[38;5;66;03m# Clear iteration count for multiple call to fit.\u001b[39;00m\n\u001b[0;32m   1483\u001b[0m \u001b[38;5;28mself\u001b[39m\u001b[38;5;241m.\u001b[39mt_ \u001b[38;5;241m=\u001b[39m \u001b[38;5;241m1.0\u001b[39m\n\u001b[1;32m-> 1485\u001b[0m \u001b[38;5;28;43mself\u001b[39;49m\u001b[38;5;241;43m.\u001b[39;49m\u001b[43m_partial_fit\u001b[49m\u001b[43m(\u001b[49m\n\u001b[0;32m   1486\u001b[0m \u001b[43m    \u001b[49m\u001b[43mX\u001b[49m\u001b[43m,\u001b[49m\n\u001b[0;32m   1487\u001b[0m \u001b[43m    \u001b[49m\u001b[43my\u001b[49m\u001b[43m,\u001b[49m\n\u001b[0;32m   1488\u001b[0m \u001b[43m    \u001b[49m\u001b[43malpha\u001b[49m\u001b[43m,\u001b[49m\n\u001b[0;32m   1489\u001b[0m \u001b[43m    \u001b[49m\u001b[43mC\u001b[49m\u001b[43m,\u001b[49m\n\u001b[0;32m   1490\u001b[0m \u001b[43m    \u001b[49m\u001b[43mloss\u001b[49m\u001b[43m,\u001b[49m\n\u001b[0;32m   1491\u001b[0m \u001b[43m    \u001b[49m\u001b[43mlearning_rate\u001b[49m\u001b[43m,\u001b[49m\n\u001b[0;32m   1492\u001b[0m \u001b[43m    \u001b[49m\u001b[38;5;28;43mself\u001b[39;49m\u001b[38;5;241;43m.\u001b[39;49m\u001b[43mmax_iter\u001b[49m\u001b[43m,\u001b[49m\n\u001b[0;32m   1493\u001b[0m \u001b[43m    \u001b[49m\u001b[43msample_weight\u001b[49m\u001b[43m,\u001b[49m\n\u001b[0;32m   1494\u001b[0m \u001b[43m    \u001b[49m\u001b[43mcoef_init\u001b[49m\u001b[43m,\u001b[49m\n\u001b[0;32m   1495\u001b[0m \u001b[43m    \u001b[49m\u001b[43mintercept_init\u001b[49m\u001b[43m,\u001b[49m\n\u001b[0;32m   1496\u001b[0m \u001b[43m\u001b[49m\u001b[43m)\u001b[49m\n\u001b[0;32m   1498\u001b[0m \u001b[38;5;28;01mif\u001b[39;00m (\n\u001b[0;32m   1499\u001b[0m     \u001b[38;5;28mself\u001b[39m\u001b[38;5;241m.\u001b[39mtol \u001b[38;5;129;01mis\u001b[39;00m \u001b[38;5;129;01mnot\u001b[39;00m \u001b[38;5;28;01mNone\u001b[39;00m\n\u001b[0;32m   1500\u001b[0m     \u001b[38;5;129;01mand\u001b[39;00m \u001b[38;5;28mself\u001b[39m\u001b[38;5;241m.\u001b[39mtol \u001b[38;5;241m>\u001b[39m \u001b[38;5;241m-\u001b[39mnp\u001b[38;5;241m.\u001b[39minf\n\u001b[0;32m   1501\u001b[0m     \u001b[38;5;129;01mand\u001b[39;00m \u001b[38;5;28mself\u001b[39m\u001b[38;5;241m.\u001b[39mn_iter_ \u001b[38;5;241m==\u001b[39m \u001b[38;5;28mself\u001b[39m\u001b[38;5;241m.\u001b[39mmax_iter\n\u001b[0;32m   1502\u001b[0m ):\n\u001b[0;32m   1503\u001b[0m     warnings\u001b[38;5;241m.\u001b[39mwarn(\n\u001b[0;32m   1504\u001b[0m         \u001b[38;5;124m\"\u001b[39m\u001b[38;5;124mMaximum number of iteration reached before \u001b[39m\u001b[38;5;124m\"\u001b[39m\n\u001b[0;32m   1505\u001b[0m         \u001b[38;5;124m\"\u001b[39m\u001b[38;5;124mconvergence. Consider increasing max_iter to \u001b[39m\u001b[38;5;124m\"\u001b[39m\n\u001b[0;32m   1506\u001b[0m         \u001b[38;5;124m\"\u001b[39m\u001b[38;5;124mimprove the fit.\u001b[39m\u001b[38;5;124m\"\u001b[39m,\n\u001b[0;32m   1507\u001b[0m         ConvergenceWarning,\n\u001b[0;32m   1508\u001b[0m     )\n",
      "File \u001b[1;32m~\\anaconda3\\lib\\site-packages\\sklearn\\linear_model\\_stochastic_gradient.py:1415\u001b[0m, in \u001b[0;36mBaseSGDRegressor._partial_fit\u001b[1;34m(self, X, y, alpha, C, loss, learning_rate, max_iter, sample_weight, coef_init, intercept_init)\u001b[0m\n\u001b[0;32m   1412\u001b[0m     \u001b[38;5;28mself\u001b[39m\u001b[38;5;241m.\u001b[39m_average_coef \u001b[38;5;241m=\u001b[39m np\u001b[38;5;241m.\u001b[39mzeros(n_features, dtype\u001b[38;5;241m=\u001b[39mnp\u001b[38;5;241m.\u001b[39mfloat64, order\u001b[38;5;241m=\u001b[39m\u001b[38;5;124m\"\u001b[39m\u001b[38;5;124mC\u001b[39m\u001b[38;5;124m\"\u001b[39m)\n\u001b[0;32m   1413\u001b[0m     \u001b[38;5;28mself\u001b[39m\u001b[38;5;241m.\u001b[39m_average_intercept \u001b[38;5;241m=\u001b[39m np\u001b[38;5;241m.\u001b[39mzeros(\u001b[38;5;241m1\u001b[39m, dtype\u001b[38;5;241m=\u001b[39mnp\u001b[38;5;241m.\u001b[39mfloat64, order\u001b[38;5;241m=\u001b[39m\u001b[38;5;124m\"\u001b[39m\u001b[38;5;124mC\u001b[39m\u001b[38;5;124m\"\u001b[39m)\n\u001b[1;32m-> 1415\u001b[0m \u001b[38;5;28;43mself\u001b[39;49m\u001b[38;5;241;43m.\u001b[39;49m\u001b[43m_fit_regressor\u001b[49m\u001b[43m(\u001b[49m\n\u001b[0;32m   1416\u001b[0m \u001b[43m    \u001b[49m\u001b[43mX\u001b[49m\u001b[43m,\u001b[49m\u001b[43m \u001b[49m\u001b[43my\u001b[49m\u001b[43m,\u001b[49m\u001b[43m \u001b[49m\u001b[43malpha\u001b[49m\u001b[43m,\u001b[49m\u001b[43m \u001b[49m\u001b[43mC\u001b[49m\u001b[43m,\u001b[49m\u001b[43m \u001b[49m\u001b[43mloss\u001b[49m\u001b[43m,\u001b[49m\u001b[43m \u001b[49m\u001b[43mlearning_rate\u001b[49m\u001b[43m,\u001b[49m\u001b[43m \u001b[49m\u001b[43msample_weight\u001b[49m\u001b[43m,\u001b[49m\u001b[43m \u001b[49m\u001b[43mmax_iter\u001b[49m\n\u001b[0;32m   1417\u001b[0m \u001b[43m\u001b[49m\u001b[43m)\u001b[49m\n\u001b[0;32m   1419\u001b[0m \u001b[38;5;28;01mreturn\u001b[39;00m \u001b[38;5;28mself\u001b[39m\n",
      "File \u001b[1;32m~\\anaconda3\\lib\\site-packages\\sklearn\\linear_model\\_stochastic_gradient.py:1618\u001b[0m, in \u001b[0;36mBaseSGDRegressor._fit_regressor\u001b[1;34m(self, X, y, alpha, C, loss, learning_rate, sample_weight, max_iter)\u001b[0m\n\u001b[0;32m   1615\u001b[0m     average_coef \u001b[38;5;241m=\u001b[39m \u001b[38;5;28;01mNone\u001b[39;00m  \u001b[38;5;66;03m# Not used\u001b[39;00m\n\u001b[0;32m   1616\u001b[0m     average_intercept \u001b[38;5;241m=\u001b[39m [\u001b[38;5;241m0\u001b[39m]  \u001b[38;5;66;03m# Not used\u001b[39;00m\n\u001b[1;32m-> 1618\u001b[0m coef, intercept, average_coef, average_intercept, \u001b[38;5;28mself\u001b[39m\u001b[38;5;241m.\u001b[39mn_iter_ \u001b[38;5;241m=\u001b[39m \u001b[43m_plain_sgd\u001b[49m\u001b[43m(\u001b[49m\n\u001b[0;32m   1619\u001b[0m \u001b[43m    \u001b[49m\u001b[43mcoef\u001b[49m\u001b[43m,\u001b[49m\n\u001b[0;32m   1620\u001b[0m \u001b[43m    \u001b[49m\u001b[43mintercept\u001b[49m\u001b[43m[\u001b[49m\u001b[38;5;241;43m0\u001b[39;49m\u001b[43m]\u001b[49m\u001b[43m,\u001b[49m\n\u001b[0;32m   1621\u001b[0m \u001b[43m    \u001b[49m\u001b[43maverage_coef\u001b[49m\u001b[43m,\u001b[49m\n\u001b[0;32m   1622\u001b[0m \u001b[43m    \u001b[49m\u001b[43maverage_intercept\u001b[49m\u001b[43m[\u001b[49m\u001b[38;5;241;43m0\u001b[39;49m\u001b[43m]\u001b[49m\u001b[43m,\u001b[49m\n\u001b[0;32m   1623\u001b[0m \u001b[43m    \u001b[49m\u001b[43mloss_function\u001b[49m\u001b[43m,\u001b[49m\n\u001b[0;32m   1624\u001b[0m \u001b[43m    \u001b[49m\u001b[43mpenalty_type\u001b[49m\u001b[43m,\u001b[49m\n\u001b[0;32m   1625\u001b[0m \u001b[43m    \u001b[49m\u001b[43malpha\u001b[49m\u001b[43m,\u001b[49m\n\u001b[0;32m   1626\u001b[0m \u001b[43m    \u001b[49m\u001b[43mC\u001b[49m\u001b[43m,\u001b[49m\n\u001b[0;32m   1627\u001b[0m \u001b[43m    \u001b[49m\u001b[38;5;28;43mself\u001b[39;49m\u001b[38;5;241;43m.\u001b[39;49m\u001b[43ml1_ratio\u001b[49m\u001b[43m,\u001b[49m\n\u001b[0;32m   1628\u001b[0m \u001b[43m    \u001b[49m\u001b[43mdataset\u001b[49m\u001b[43m,\u001b[49m\n\u001b[0;32m   1629\u001b[0m \u001b[43m    \u001b[49m\u001b[43mvalidation_mask\u001b[49m\u001b[43m,\u001b[49m\n\u001b[0;32m   1630\u001b[0m \u001b[43m    \u001b[49m\u001b[38;5;28;43mself\u001b[39;49m\u001b[38;5;241;43m.\u001b[39;49m\u001b[43mearly_stopping\u001b[49m\u001b[43m,\u001b[49m\n\u001b[0;32m   1631\u001b[0m \u001b[43m    \u001b[49m\u001b[43mvalidation_score_cb\u001b[49m\u001b[43m,\u001b[49m\n\u001b[0;32m   1632\u001b[0m \u001b[43m    \u001b[49m\u001b[38;5;28;43mint\u001b[39;49m\u001b[43m(\u001b[49m\u001b[38;5;28;43mself\u001b[39;49m\u001b[38;5;241;43m.\u001b[39;49m\u001b[43mn_iter_no_change\u001b[49m\u001b[43m)\u001b[49m\u001b[43m,\u001b[49m\n\u001b[0;32m   1633\u001b[0m \u001b[43m    \u001b[49m\u001b[43mmax_iter\u001b[49m\u001b[43m,\u001b[49m\n\u001b[0;32m   1634\u001b[0m \u001b[43m    \u001b[49m\u001b[43mtol\u001b[49m\u001b[43m,\u001b[49m\n\u001b[0;32m   1635\u001b[0m \u001b[43m    \u001b[49m\u001b[38;5;28;43mint\u001b[39;49m\u001b[43m(\u001b[49m\u001b[38;5;28;43mself\u001b[39;49m\u001b[38;5;241;43m.\u001b[39;49m\u001b[43mfit_intercept\u001b[49m\u001b[43m)\u001b[49m\u001b[43m,\u001b[49m\n\u001b[0;32m   1636\u001b[0m \u001b[43m    \u001b[49m\u001b[38;5;28;43mint\u001b[39;49m\u001b[43m(\u001b[49m\u001b[38;5;28;43mself\u001b[39;49m\u001b[38;5;241;43m.\u001b[39;49m\u001b[43mverbose\u001b[49m\u001b[43m)\u001b[49m\u001b[43m,\u001b[49m\n\u001b[0;32m   1637\u001b[0m \u001b[43m    \u001b[49m\u001b[38;5;28;43mint\u001b[39;49m\u001b[43m(\u001b[49m\u001b[38;5;28;43mself\u001b[39;49m\u001b[38;5;241;43m.\u001b[39;49m\u001b[43mshuffle\u001b[49m\u001b[43m)\u001b[49m\u001b[43m,\u001b[49m\n\u001b[0;32m   1638\u001b[0m \u001b[43m    \u001b[49m\u001b[43mseed\u001b[49m\u001b[43m,\u001b[49m\n\u001b[0;32m   1639\u001b[0m \u001b[43m    \u001b[49m\u001b[38;5;241;43m1.0\u001b[39;49m\u001b[43m,\u001b[49m\n\u001b[0;32m   1640\u001b[0m \u001b[43m    \u001b[49m\u001b[38;5;241;43m1.0\u001b[39;49m\u001b[43m,\u001b[49m\n\u001b[0;32m   1641\u001b[0m \u001b[43m    \u001b[49m\u001b[43mlearning_rate_type\u001b[49m\u001b[43m,\u001b[49m\n\u001b[0;32m   1642\u001b[0m \u001b[43m    \u001b[49m\u001b[38;5;28;43mself\u001b[39;49m\u001b[38;5;241;43m.\u001b[39;49m\u001b[43meta0\u001b[49m\u001b[43m,\u001b[49m\n\u001b[0;32m   1643\u001b[0m \u001b[43m    \u001b[49m\u001b[38;5;28;43mself\u001b[39;49m\u001b[38;5;241;43m.\u001b[39;49m\u001b[43mpower_t\u001b[49m\u001b[43m,\u001b[49m\n\u001b[0;32m   1644\u001b[0m \u001b[43m    \u001b[49m\u001b[38;5;241;43m0\u001b[39;49m\u001b[43m,\u001b[49m\n\u001b[0;32m   1645\u001b[0m \u001b[43m    \u001b[49m\u001b[38;5;28;43mself\u001b[39;49m\u001b[38;5;241;43m.\u001b[39;49m\u001b[43mt_\u001b[49m\u001b[43m,\u001b[49m\n\u001b[0;32m   1646\u001b[0m \u001b[43m    \u001b[49m\u001b[43mintercept_decay\u001b[49m\u001b[43m,\u001b[49m\n\u001b[0;32m   1647\u001b[0m \u001b[43m    \u001b[49m\u001b[38;5;28;43mself\u001b[39;49m\u001b[38;5;241;43m.\u001b[39;49m\u001b[43maverage\u001b[49m\u001b[43m,\u001b[49m\n\u001b[0;32m   1648\u001b[0m \u001b[43m\u001b[49m\u001b[43m)\u001b[49m\n\u001b[0;32m   1650\u001b[0m \u001b[38;5;28mself\u001b[39m\u001b[38;5;241m.\u001b[39mt_ \u001b[38;5;241m+\u001b[39m\u001b[38;5;241m=\u001b[39m \u001b[38;5;28mself\u001b[39m\u001b[38;5;241m.\u001b[39mn_iter_ \u001b[38;5;241m*\u001b[39m X\u001b[38;5;241m.\u001b[39mshape[\u001b[38;5;241m0\u001b[39m]\n\u001b[0;32m   1652\u001b[0m \u001b[38;5;28;01mif\u001b[39;00m \u001b[38;5;28mself\u001b[39m\u001b[38;5;241m.\u001b[39maverage \u001b[38;5;241m>\u001b[39m \u001b[38;5;241m0\u001b[39m:\n",
      "\u001b[1;31mKeyboardInterrupt\u001b[0m: "
     ]
    }
   ],
   "source": [
    "# SGDRegressor의 하이퍼파라미터 범위 설정\n",
    "param_distribs = {\n",
    "    'alpha': uniform(0.0001, 0.01),  # 규제 파라미터\n",
    "    'penalty': ['l2', 'l1', 'elasticnet', 'None'],  # 규제 종류\n",
    "    'eta0': uniform(0.01, 0.1)  # 학습률\n",
    "}\n",
    "\n",
    "# RandomizedSearchCV 설정\n",
    "sgd_reg = SGDRegressor(max_iter=5000, tol=1e-3)\n",
    "rnd_search = RandomizedSearchCV(sgd_reg, param_distributions=param_distribs,\n",
    "                                n_iter=50, cv=5, scoring='neg_mean_squared_error', random_state=42, return_train_score=True)\n",
    "\n",
    "# 랜덤 탐색 실행\n",
    "rnd_search.fit(x_train_prepared, y_train)\n",
    "\n",
    "# 결과 평가\n",
    "cvres = rnd_search.cv_results_\n",
    "for mean_score, params in zip(cvres[\"mean_test_score\"], cvres[\"params\"]):\n",
    "    print(np.sqrt(-mean_score), params)\n",
    "\n",
    "# 최적의 파라미터\n",
    "print(\"최적의 파라미터:\", rnd_search.best_params_)"
   ]
  },
  {
   "cell_type": "code",
   "execution_count": null,
   "id": "c31a5ffc",
   "metadata": {
    "scrolled": true
   },
   "outputs": [],
   "source": [
    "# 최적의 하이퍼파라미터로 SGDRegressor 모델 초기화\n",
    "optimal_sgd_reg = SGDRegressor(alpha=0.001752669390630025, eta0=0.011563640674119394, penalty='l2', \n",
    "                               max_iter=1000, tol=1e-3)\n",
    "\n",
    "# 모델 학습\n",
    "optimal_sgd_reg.fit(x_train_prepared, y_train)\n",
    "\n",
    "# 테스트 데이터에 대한 예측\n",
    "y_pred_optimal = optimal_sgd_reg.predict(x_test_prepared)\n",
    "\n",
    "# 성능 평가: MSE와 RMSE\n",
    "optimal_mse = mean_squared_error(y_test, y_pred_optimal)\n",
    "optimal_rmse = np.sqrt(optimal_mse)\n",
    "print(\"Optimal RMSE:\", optimal_rmse)\n",
    "\n",
    "# 성능 평가: MAE\n",
    "optimal_mae = mean_absolute_error(y_test, y_pred_optimal)\n",
    "print(\"Optimal MAE:\", optimal_mae)"
   ]
  },
  {
   "cell_type": "code",
   "execution_count": 56,
   "id": "0a81700e",
   "metadata": {},
   "outputs": [
    {
     "name": "stdout",
     "output_type": "stream",
     "text": [
      "(8686, 58)\n",
      "(8686, 799)\n"
     ]
    }
   ],
   "source": [
    "from sklearn.preprocessing import PolynomialFeatures\n",
    "\n",
    "poly_features = PolynomialFeatures(degree=2, include_bias=False)\n",
    "\n",
    "# 수치형 데이터에 대한 다항 특성 추가\n",
    "\n",
    "\n",
    "x_train_num_poly = poly_features.fit_transform(data_num_scaled)\n",
    "# 변환된 수치형 데이터를 데이터프레임으로 변환 (원본 데이터프레임의 인덱스 사용)\n",
    "x_train_num_poly_df = pd.DataFrame(x_train_num_poly, index=x_train_num.index)\n",
    "# 스케일링된 수치형 데이터, 불리언 타입의 데이터, 원-핫 인코딩된 데이터 병합\n",
    "x_train_prepared_poly = pd.concat([x_train_num_poly_df, bool_features, x_train_cat_1hot_df], axis=1)\n",
    "\n",
    "print(x_train_prepared.shape)\n",
    "print(x_train_prepared_poly.shape)\n",
    "\n",
    "\n",
    "\n",
    "x_test_num_poly = poly_features.transform(data_num_scaled2)\n",
    "# 변환된 수치형 데이터를 데이터프레임으로 변환 (원본 데이터프레임의 인덱스 사용)\n",
    "x_test_num_poly_df = pd.DataFrame(x_test_num_poly, index=x_test_num.index)\n",
    "# 스케일링된 수치형 데이터, 불리언 타입의 데이터, 원-핫 인코딩된 데이터 병합\n",
    "x_test_prepared_poly = pd.concat([x_test_num_poly_df, bool_features2, x_test_cat_1hot_df], axis=1)\n",
    "\n",
    "\n"
   ]
  },
  {
   "cell_type": "code",
   "execution_count": 57,
   "id": "e889391f",
   "metadata": {},
   "outputs": [
    {
     "name": "stderr",
     "output_type": "stream",
     "text": [
      "C:\\Users\\junhe\\anaconda3\\lib\\site-packages\\sklearn\\utils\\validation.py:1688: FutureWarning: Feature names only support names that are all strings. Got feature names with dtypes: ['int', 'str']. An error will be raised in 1.2.\n",
      "  warnings.warn(\n",
      "C:\\Users\\junhe\\anaconda3\\lib\\site-packages\\sklearn\\utils\\validation.py:1688: FutureWarning: Feature names only support names that are all strings. Got feature names with dtypes: ['int', 'str']. An error will be raised in 1.2.\n",
      "  warnings.warn(\n"
     ]
    },
    {
     "name": "stdout",
     "output_type": "stream",
     "text": [
      "Optimal RMSE: 3162221446739.2905\n",
      "Optimal MAE: 463633801270.0816\n",
      "232001141107.9271\n",
      "6.5\n"
     ]
    }
   ],
   "source": [
    "#  Polynomial Regression 모델 생성\n",
    "\n",
    "sgd_reg_poly = SGDRegressor(max_iter=10000, tol=1e-3, penalty='l1', eta0=0.01)\n",
    "sgd_reg_poly.fit(x_train_prepared_poly, y_train)\n",
    "\n",
    "# 테스트 데이터에 대한 예측\n",
    "prediction_sgd_reg_poly = sgd_reg_poly.predict(x_test_prepared_poly)\n",
    "\n",
    "# 성능 평가: MSE와 RMSE\n",
    "sgd_reg_poly_mse = mean_squared_error(y_test, prediction_sgd_reg_poly)\n",
    "sgd_reg_poly_rmse = np.sqrt(sgd_reg_poly_mse)\n",
    "print(\"Optimal RMSE:\", sgd_reg_poly_rmse)\n",
    "\n",
    "# 성능 평가: MAE\n",
    "sgd_reg_poly_mae = mean_absolute_error(y_test, prediction_sgd_reg_poly)\n",
    "print(\"Optimal MAE:\", sgd_reg_poly_mae)\n",
    "\n",
    "print(prediction_sgd_reg_poly[0])\n",
    "print(y_test.iloc[0])"
   ]
  },
  {
   "cell_type": "code",
   "execution_count": 58,
   "id": "0d172e0e",
   "metadata": {
    "scrolled": true
   },
   "outputs": [
    {
     "name": "stderr",
     "output_type": "stream",
     "text": [
      "C:\\Users\\junhe\\anaconda3\\lib\\site-packages\\sklearn\\utils\\validation.py:1688: FutureWarning: Feature names only support names that are all strings. Got feature names with dtypes: ['int', 'str']. An error will be raised in 1.2.\n",
      "  warnings.warn(\n"
     ]
    },
    {
     "name": "stdout",
     "output_type": "stream",
     "text": [
      "RMSE: 16664727992.204895\n",
      "MAE: 764270950.8544313\n",
      "Predicted: 7.232023239135742\n",
      "Actual: 7.3\n"
     ]
    },
    {
     "name": "stderr",
     "output_type": "stream",
     "text": [
      "C:\\Users\\junhe\\anaconda3\\lib\\site-packages\\sklearn\\utils\\validation.py:1688: FutureWarning: Feature names only support names that are all strings. Got feature names with dtypes: ['int', 'str']. An error will be raised in 1.2.\n",
      "  warnings.warn(\n"
     ]
    }
   ],
   "source": [
    "#  Polynomial Regression 모델 생성\n",
    "lin_reg_poly = LinearRegression()\n",
    "lin_reg_poly.fit(x_train_prepared_poly, y_train)\n",
    "\n",
    "# 테스트 데이터에 대한 예측\n",
    "prediction_lin_reg_poly = lin_reg_poly.predict(x_test_prepared_poly)\n",
    "\n",
    "# 성능 평가: MSE와 RMSE\n",
    "lin_reg_poly_mse = mean_squared_error(y_test, prediction_lin_reg_poly)\n",
    "lin_reg_poly_rmse = np.sqrt(lin_reg_poly_mse)\n",
    "print(\"RMSE:\", lin_reg_poly_rmse)\n",
    "\n",
    "# 성능 평가: MAE\n",
    "lin_reg_poly_mae = mean_absolute_error(y_test, prediction_lin_reg_poly)\n",
    "print(\"MAE:\", lin_reg_poly_mae)\n",
    "\n",
    "# 예측값과 실제값 출력\n",
    "print(\"Predicted:\", prediction_lin_reg_poly[15])\n",
    "print(\"Actual:\", y_test.iloc[15])\n",
    "\n",
    "\n",
    "# 결과는 좋은데 -> 왜 rmse, mae가 이따위지?\n",
    "# svm 커널 ->2차와 관련성??\n"
   ]
  },
  {
   "cell_type": "code",
   "execution_count": 62,
   "id": "42b4986a",
   "metadata": {},
   "outputs": [
    {
     "name": "stdout",
     "output_type": "stream",
     "text": [
      "7.039611645640569\n",
      "7.013271320685217\n"
     ]
    },
    {
     "data": {
      "image/png": "[encoded data removed]",
      "text/plain": [
       "<Figure size 1000x400 with 2 Axes>"
      ]
     },
     "metadata": {},
     "output_type": "display_data"
    }
   ],
   "source": [
    "# prediction_lin_reg_poly에 대한 히스토그램\n",
    "plt.figure(figsize=(10, 4))\n",
    "plt.subplot(1, 2, 1)\n",
    "plt.hist(prediction_lin_reg_poly, bins=100, width=0.1, align='left')\n",
    "plt.xticks(np.arange(0, 11, 1))\n",
    "plt.xticks(rotation=90, fontsize=8)\n",
    "plt.title('Histogram of prediction_lin_reg_poly')\n",
    "\n",
    "\n",
    "# target 'rating'에 대한 히스토그램\n",
    "plt.subplot(1, 2, 2)\n",
    "plt.hist(data['rating'], bins=100, width=0.1, align='left')\n",
    "plt.xticks(np.arange(0, 11, 1))\n",
    "plt.xticks(rotation=90, fontsize=8)\n",
    "plt.title('Histogram of ratings')\n",
    "\n",
    "print(prediction_l2.mean())\n",
    "print(data['rating'].mean())"
   ]
  },
  {
   "cell_type": "code",
   "execution_count": 61,
   "id": "3fed8880",
   "metadata": {},
   "outputs": [
    {
     "data": {
      "text/plain": [
       "1.8854196119913882"
      ]
     },
     "execution_count": 61,
     "metadata": {},
     "output_type": "execute_result"
    }
   ],
   "source": [
    "# 히스토그램을 확률 분포로 변환\n",
    "hist1, bin_edges1 = np.histogram(prediction_lin_reg_poly, bins=30, density=True)\n",
    "hist2, bin_edges2 = np.histogram(data['rating'], bins=30, density=True)\n",
    "\n",
    "# 0 값을 가진 히스토그램 bin을 처리 (KL Divergence는 0 로그 불가능)\n",
    "hist1 = np.where(hist1 == 0, 1e-10, hist1)\n",
    "hist2 = np.where(hist2 == 0, 1e-10, hist2)\n",
    "\n",
    "# 쿨백-라이블러 발산 계산\n",
    "kl_divergence = entropy(hist1, hist2)\n",
    "\n",
    "kl_divergence"
   ]
  },
  {
   "cell_type": "code",
   "execution_count": 59,
   "id": "cdaaf5b3",
   "metadata": {},
   "outputs": [
    {
     "name": "stdout",
     "output_type": "stream",
     "text": [
      "7.013271320685217\n",
      "7.0\n",
      "0    7.3\n",
      "Name: rating, dtype: float64\n"
     ]
    },
    {
     "data": {
      "image/png": "[encoded data removed]",
      "text/plain": [
       "<Figure size 640x480 with 1 Axes>"
      ]
     },
     "metadata": {},
     "output_type": "display_data"
    }
   ],
   "source": [
    "# target 'rating'에 대한 히스토그램\n",
    "plt.hist(data['rating'], bins= 100, width = 0.1, align= 'left')\n",
    "plt.xticks(np.arange(0, 11, 1))\n",
    "plt.xticks(rotation = 90 ,fontsize = 8)\n",
    "\n",
    "# 평균, 중간값, 최빈값\n",
    "print(data['rating'].mean())\n",
    "print(data['rating'].median())\n",
    "print(data['rating'].mode())\n"
   ]
  },
  {
   "cell_type": "code",
   "execution_count": 60,
   "id": "89fcae85",
   "metadata": {},
   "outputs": [
    {
     "name": "stdout",
     "output_type": "stream",
     "text": [
      "7.011903186801068\n"
     ]
    },
    {
     "ename": "AttributeError",
     "evalue": "'numpy.ndarray' object has no attribute 'median'",
     "output_type": "error",
     "traceback": [
      "\u001b[1;31m---------------------------------------------------------------------------\u001b[0m",
      "\u001b[1;31mAttributeError\u001b[0m                            Traceback (most recent call last)",
      "Cell \u001b[1;32mIn[60], line 8\u001b[0m\n\u001b[0;32m      6\u001b[0m \u001b[38;5;66;03m# 평균, 중간값, 최빈값\u001b[39;00m\n\u001b[0;32m      7\u001b[0m \u001b[38;5;28mprint\u001b[39m(prediction_l1\u001b[38;5;241m.\u001b[39mmean())\n\u001b[1;32m----> 8\u001b[0m \u001b[38;5;28mprint\u001b[39m(\u001b[43mprediction_l1\u001b[49m\u001b[38;5;241;43m.\u001b[39;49m\u001b[43mmedian\u001b[49m())\n\u001b[0;32m      9\u001b[0m \u001b[38;5;28mprint\u001b[39m(prediction_l1\u001b[38;5;241m.\u001b[39mmode())\n\u001b[0;32m     11\u001b[0m \u001b[38;5;66;03m# target 'rating'에 대한 히스토그램\u001b[39;00m\n",
      "\u001b[1;31mAttributeError\u001b[0m: 'numpy.ndarray' object has no attribute 'median'"
     ]
    },
    {
     "data": {
      "image/png": "[encoded data removed]",
      "text/plain": [
       "<Figure size 640x480 with 1 Axes>"
      ]
     },
     "metadata": {},
     "output_type": "display_data"
    }
   ],
   "source": [
    "\n",
    "\n",
    "# prediction_l1 대한 히스토그램\n",
    "plt.hist(prediction_l1, bins= 100, width = 0.1, align= 'left')\n",
    "plt.xticks(np.arange(0, 11, 1))\n",
    "plt.xticks(rotation = 90 ,fontsize = 8)\n",
    "\n",
    "# 평균, 중간값, 최빈값\n",
    "print(prediction_l1.mean())\n",
    "print(prediction_l1.median())\n",
    "print(prediction_l1.mode())\n",
    "\n",
    "# target 'rating'에 대한 히스토그램\n",
    "plt.hist(data['rating'], bins= 100, width = 0.1, align= 'left')\n",
    "plt.xticks(np.arange(0, 11, 1))\n",
    "plt.xticks(rotation = 90 ,fontsize = 8)"
   ]
  },
  {
   "cell_type": "code",
   "execution_count": 26,
   "id": "ddc505be",
   "metadata": {},
   "outputs": [
    {
     "data": {
      "text/plain": [
       "Text(0.5, 1.0, 'Histogram of ratings')"
      ]
     },
     "execution_count": 26,
     "metadata": {},
     "output_type": "execute_result"
    },
    {
     "data": {
      "image/png": "[encoded data removed]",
      "text/plain": [
       "<Figure size 1000x400 with 2 Axes>"
      ]
     },
     "metadata": {},
     "output_type": "display_data"
    }
   ],
   "source": [
    "# prediction_l1에 대한 히스토그램\n",
    "plt.figure(figsize=(10, 4))\n",
    "plt.subplot(1, 2, 1)\n",
    "plt.hist(prediction_l1, bins=100, width=0.1, align='left')\n",
    "plt.xticks(np.arange(0, 11, 1))\n",
    "plt.xticks(rotation=90, fontsize=8)\n",
    "plt.title('Histogram of prediction_l1')\n",
    "\n",
    "\n",
    "# target 'rating'에 대한 히스토그램\n",
    "plt.subplot(1, 2, 2)\n",
    "plt.hist(data['rating'], bins=100, width=0.1, align='left')\n",
    "plt.xticks(np.arange(0, 11, 1))\n",
    "plt.xticks(rotation=90, fontsize=8)\n",
    "plt.title('Histogram of ratings')"
   ]
  },
  {
   "cell_type": "code",
   "execution_count": null,
   "id": "ff2c5735",
   "metadata": {},
   "outputs": [],
   "source": []
  }
 ],
 "metadata": {
  "kernelspec": {
   "display_name": "Python 3 (ipykernel)",
   "language": "python",
   "name": "python3"
  },
  "language_info": {
   "codemirror_mode": {
    "name": "ipython",
    "version": 3
   },
   "file_extension": ".py",
   "mimetype": "text/x-python",
   "name": "python",
   "nbconvert_exporter": "python",
   "pygments_lexer": "ipython3",
   "version": "3.9.18"
  }
 },
 "nbformat": 4,
 "nbformat_minor": 5
}
